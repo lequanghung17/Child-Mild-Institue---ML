{
 "cells": [
  {
   "cell_type": "markdown",
   "id": "c353237c",
   "metadata": {
    "papermill": {
     "duration": 0.009319,
     "end_time": "2025-06-16T16:54:50.295973",
     "exception": false,
     "start_time": "2025-06-16T16:54:50.286654",
     "status": "completed"
    },
    "tags": []
   },
   "source": [
    "**1. Import**# "
   ]
  },
  {
   "cell_type": "code",
   "execution_count": 1,
   "id": "9ee1816e",
   "metadata": {
    "_cell_guid": "b1076dfc-b9ad-4769-8c92-a6c4dae69d19",
    "_uuid": "8f2839f25d086af736a60e9eeb907d3b93b6e0e5",
    "execution": {
     "iopub.execute_input": "2025-06-16T16:54:50.316568Z",
     "iopub.status.busy": "2025-06-16T16:54:50.316066Z",
     "iopub.status.idle": "2025-06-16T16:55:10.239738Z",
     "shell.execute_reply": "2025-06-16T16:55:10.238647Z"
    },
    "papermill": {
     "duration": 19.936317,
     "end_time": "2025-06-16T16:55:10.242333",
     "exception": false,
     "start_time": "2025-06-16T16:54:50.306016",
     "status": "completed"
    },
    "tags": []
   },
   "outputs": [],
   "source": [
    "import numpy as np, pandas as pd, os\n",
    "import optuna\n",
    "from sklearn.model_selection import cross_val_score, StratifiedKFold, GridSearchCV, RandomizedSearchCV\n",
    "import xgboost as xgb\n",
    "import plotly.express as px, seaborn as sns, matplotlib.pyplot as plt\n",
    "sns.set_style('darkgrid')\n",
    "from sklearn.metrics import make_scorer, cohen_kappa_score\n",
    "from scipy.stats import uniform\n",
    "import eli5\n",
    "from optuna.samplers import TPESampler\n",
    "import random\n",
    "from eli5.sklearn import PermutationImportance\n",
    "import warnings\n",
    "warnings.simplefilter('ignore')"
   ]
  },
  {
   "cell_type": "markdown",
   "id": "107cd209",
   "metadata": {
    "papermill": {
     "duration": 0.008981,
     "end_time": "2025-06-16T16:55:10.260293",
     "exception": false,
     "start_time": "2025-06-16T16:55:10.251312",
     "status": "completed"
    },
    "tags": []
   },
   "source": [
    "**2. Data**# "
   ]
  },
  {
   "cell_type": "code",
   "execution_count": 2,
   "id": "dd15d812",
   "metadata": {
    "execution": {
     "iopub.execute_input": "2025-06-16T16:55:10.280726Z",
     "iopub.status.busy": "2025-06-16T16:55:10.279612Z",
     "iopub.status.idle": "2025-06-16T16:55:10.409914Z",
     "shell.execute_reply": "2025-06-16T16:55:10.408535Z"
    },
    "papermill": {
     "duration": 0.143128,
     "end_time": "2025-06-16T16:55:10.412352",
     "exception": false,
     "start_time": "2025-06-16T16:55:10.269224",
     "status": "completed"
    },
    "tags": []
   },
   "outputs": [
    {
     "name": "stdout",
     "output_type": "stream",
     "text": [
      "The train data has the shape:  (3960, 81)\n",
      "The test data has the shape:  (20, 58)\n",
      "\n",
      "Total number of missing training values:  131717\n"
     ]
    }
   ],
   "source": [
    "path = '../input/child-mind-institute-problematic-internet-use/'\n",
    "\n",
    "train = pd.read_csv(path + 'train.csv', index_col = 'id')\n",
    "print(\"The train data has the shape: \",train.shape)\n",
    "test = pd.read_csv(path + 'test.csv', index_col = 'id')\n",
    "print(\"The test data has the shape: \",test.shape)\n",
    "print(\"\")\n",
    "print(\"Total number of missing training values: \", train.isna().sum().sum())\n",
    "data_dictionary = pd.read_csv(path + 'data_dictionary.csv')"
   ]
  },
  {
   "cell_type": "code",
   "execution_count": 3,
   "id": "aa7031a4",
   "metadata": {
    "execution": {
     "iopub.execute_input": "2025-06-16T16:55:10.431349Z",
     "iopub.status.busy": "2025-06-16T16:55:10.430962Z",
     "iopub.status.idle": "2025-06-16T16:55:10.439349Z",
     "shell.execute_reply": "2025-06-16T16:55:10.438161Z"
    },
    "papermill": {
     "duration": 0.020936,
     "end_time": "2025-06-16T16:55:10.442020",
     "exception": false,
     "start_time": "2025-06-16T16:55:10.421084",
     "status": "completed"
    },
    "tags": []
   },
   "outputs": [
    {
     "name": "stderr",
     "output_type": "stream",
     "text": [
      "[I 2025-06-16 16:55:10,434] A new study created in memory with name: no-name-212b1eeb-b0d9-4b89-a081-92404ab931bc\n"
     ]
    }
   ],
   "source": [
    "SEED = 42  # Giá trị seed cố định\n",
    "\n",
    "# Cố định seed cho random và NumPy\n",
    "random.seed(SEED)\n",
    "np.random.seed(SEED)\n",
    "\n",
    "# Cố định seed cho Optuna\n",
    "sampler = TPESampler(seed=SEED)\n",
    "study = optuna.create_study(direction='maximize', sampler=sampler)"
   ]
  },
  {
   "cell_type": "markdown",
   "id": "83f042e8",
   "metadata": {
    "papermill": {
     "duration": 0.009366,
     "end_time": "2025-06-16T16:55:10.460628",
     "exception": false,
     "start_time": "2025-06-16T16:55:10.451262",
     "status": "completed"
    },
    "tags": []
   },
   "source": [
    "**3. Predict Features**#"
   ]
  },
  {
   "cell_type": "markdown",
   "id": "b476e276",
   "metadata": {
    "papermill": {
     "duration": 0.008766,
     "end_time": "2025-06-16T16:55:10.478407",
     "exception": false,
     "start_time": "2025-06-16T16:55:10.469641",
     "status": "completed"
    },
    "tags": []
   },
   "source": [
    "* **Demographics** - Information about age and sex of participants.\n",
    "* **Internet Use** - Number of hours of using computer/internet per day.\n",
    "* **Children's Global Assessment Scale** - Numeric scale used by mental health clinicians to rate the general functioning of youths under the age of 18.\n",
    "* **Physical Measures** - Collection of blood pressure, heart rate, height, weight and waist, and hip measurements.\n",
    "* **FitnessGram Vitals and Treadmill** - Measurements of cardiovascular fitness assessed using the NHANES treadmill protocol.\n",
    "* **FitnessGram Child** - Health related physical fitness assessment measuring five different parameters including aerobic capacity, muscular strength, muscular endurance, flexibility, and body composition.\n",
    "* **Bio-electric Impedance Analysis** - Measure of key body composition elements, including BMI, fat, muscle, and water content.\n",
    "* **Physical Activity Questionnaire** - Information about children's participation in vigorous activities over the last 7 days.\n",
    "* **Sleep Disturbance Scale** - Scale to categorize sleep disorders in children.\n",
    "* **Actigraphy** - Objective measure of ecological physical activity through a research-grade biotracker. Many values seem to relate to a period *after* the PCIAT test was carried out.\n",
    "* **Season** - for each set of measurements there is a 'season' feature which gives the season of the year when the measurements were carried out. These are the only predictive categorical features in the dataset and can be easily preprocessed."
   ]
  },
  {
   "cell_type": "code",
   "execution_count": 4,
   "id": "df741515",
   "metadata": {
    "execution": {
     "iopub.execute_input": "2025-06-16T16:55:10.498891Z",
     "iopub.status.busy": "2025-06-16T16:55:10.498348Z",
     "iopub.status.idle": "2025-06-16T16:55:10.544186Z",
     "shell.execute_reply": "2025-06-16T16:55:10.543062Z"
    },
    "papermill": {
     "duration": 0.05924,
     "end_time": "2025-06-16T16:55:10.546734",
     "exception": false,
     "start_time": "2025-06-16T16:55:10.487494",
     "status": "completed"
    },
    "tags": []
   },
   "outputs": [],
   "source": [
    "train_cat_columns = train.select_dtypes(exclude = 'number').columns\n",
    "\n",
    "for season in train_cat_columns:\n",
    "    train[season] = train[season].fillna(0)\n",
    "    train[season] = train[season].replace({'Spring':1, 'Summer':2, 'Fall':3, 'Winter':4})"
   ]
  },
  {
   "cell_type": "code",
   "execution_count": 5,
   "id": "da9ae90d",
   "metadata": {
    "execution": {
     "iopub.execute_input": "2025-06-16T16:55:10.565932Z",
     "iopub.status.busy": "2025-06-16T16:55:10.565493Z",
     "iopub.status.idle": "2025-06-16T16:55:10.583250Z",
     "shell.execute_reply": "2025-06-16T16:55:10.582155Z"
    },
    "papermill": {
     "duration": 0.030277,
     "end_time": "2025-06-16T16:55:10.585851",
     "exception": false,
     "start_time": "2025-06-16T16:55:10.555574",
     "status": "completed"
    },
    "tags": []
   },
   "outputs": [],
   "source": [
    "test_cat_columns = test.select_dtypes(exclude = 'number').columns\n",
    "\n",
    "for season in test_cat_columns:\n",
    "    test[season] = test[season].fillna(0)\n",
    "    test[season] = test[season].replace({'Spring':1, 'Summer':2, 'Fall':3, 'Winter':4})"
   ]
  },
  {
   "cell_type": "markdown",
   "id": "ff1a4a5f",
   "metadata": {
    "papermill": {
     "duration": 0.008467,
     "end_time": "2025-06-16T16:55:10.603257",
     "exception": false,
     "start_time": "2025-06-16T16:55:10.594790",
     "status": "completed"
    },
    "tags": []
   },
   "source": [
    "**4. PCIAT**# "
   ]
  },
  {
   "cell_type": "markdown",
   "id": "74d69d02",
   "metadata": {
    "papermill": {
     "duration": 0.008283,
     "end_time": "2025-06-16T16:55:10.620364",
     "exception": false,
     "start_time": "2025-06-16T16:55:10.612081",
     "status": "completed"
    },
    "tags": []
   },
   "source": [
    "* As mentioned there are 22 PCIAT features. These comprise answers to 20 questions (each marked out of 5), the total score and 'season' when the test was carried out.\n",
    "* We will take a look at the questions and how they correlate with the total.\n",
    "* The sii target is derived from the total PCIAT score:\n",
    "    - 0-30 gives sii = 0\n",
    "    - 31-49 gives sii = 1\n",
    "    - 50-79 gives sii = 2\n",
    "    - 80-100 gives sii = 3. \n",
    "* We show this by simply counting the values. The same information is confirmed [here](https://digitalwellnesslab.org/wp-content/uploads/Scoring-Overview.pdf).\n",
    "* We drop all the PCIAT features from the dataset except the PCIAT Total feature which can be used as a regression target.\n",
    "* The PCIAT Total visualisation box plot shows us that many of the top scores look like outliers - yet this is our most important category!"
   ]
  },
  {
   "cell_type": "code",
   "execution_count": 6,
   "id": "939b1d77",
   "metadata": {
    "execution": {
     "iopub.execute_input": "2025-06-16T16:55:10.640686Z",
     "iopub.status.busy": "2025-06-16T16:55:10.640303Z",
     "iopub.status.idle": "2025-06-16T16:55:10.647826Z",
     "shell.execute_reply": "2025-06-16T16:55:10.646237Z"
    },
    "papermill": {
     "duration": 0.02159,
     "end_time": "2025-06-16T16:55:10.650624",
     "exception": false,
     "start_time": "2025-06-16T16:55:10.629034",
     "status": "completed"
    },
    "tags": []
   },
   "outputs": [
    {
     "name": "stdout",
     "output_type": "stream",
     "text": [
      "Number of PCIAT features =  22\n"
     ]
    }
   ],
   "source": [
    "PCIAT_cols = [val for val in train.columns[train.columns.str.contains('PCIAT')]]\n",
    "print('Number of PCIAT features = ' , len(PCIAT_cols))"
   ]
  },
  {
   "cell_type": "code",
   "execution_count": 7,
   "id": "9e8189e1",
   "metadata": {
    "execution": {
     "iopub.execute_input": "2025-06-16T16:55:10.672265Z",
     "iopub.status.busy": "2025-06-16T16:55:10.671701Z",
     "iopub.status.idle": "2025-06-16T16:55:10.695663Z",
     "shell.execute_reply": "2025-06-16T16:55:10.694374Z"
    },
    "papermill": {
     "duration": 0.037799,
     "end_time": "2025-06-16T16:55:10.698244",
     "exception": false,
     "start_time": "2025-06-16T16:55:10.660445",
     "status": "completed"
    },
    "tags": []
   },
   "outputs": [
    {
     "data": {
      "text/html": [
       "<div>\n",
       "<style scoped>\n",
       "    .dataframe tbody tr th:only-of-type {\n",
       "        vertical-align: middle;\n",
       "    }\n",
       "\n",
       "    .dataframe tbody tr th {\n",
       "        vertical-align: top;\n",
       "    }\n",
       "\n",
       "    .dataframe thead th {\n",
       "        text-align: right;\n",
       "    }\n",
       "</style>\n",
       "<table border=\"1\" class=\"dataframe\">\n",
       "  <thead>\n",
       "    <tr style=\"text-align: right;\">\n",
       "      <th></th>\n",
       "      <th>Field</th>\n",
       "      <th>Description</th>\n",
       "    </tr>\n",
       "  </thead>\n",
       "  <tbody>\n",
       "    <tr>\n",
       "      <th>55</th>\n",
       "      <td>PCIAT-PCIAT_01</td>\n",
       "      <td>How often does your child disobey time limits you set for online use?</td>\n",
       "    </tr>\n",
       "    <tr>\n",
       "      <th>56</th>\n",
       "      <td>PCIAT-PCIAT_02</td>\n",
       "      <td>How often does your child neglect household chores to spend more time online?</td>\n",
       "    </tr>\n",
       "    <tr>\n",
       "      <th>57</th>\n",
       "      <td>PCIAT-PCIAT_03</td>\n",
       "      <td>How often does your child prefer to spend time online rather than with the rest of your family?</td>\n",
       "    </tr>\n",
       "    <tr>\n",
       "      <th>58</th>\n",
       "      <td>PCIAT-PCIAT_04</td>\n",
       "      <td>How often does your child form new relationships with fellow online users?</td>\n",
       "    </tr>\n",
       "    <tr>\n",
       "      <th>59</th>\n",
       "      <td>PCIAT-PCIAT_05</td>\n",
       "      <td>How often do you complain about the amount of time your child spends online?</td>\n",
       "    </tr>\n",
       "    <tr>\n",
       "      <th>60</th>\n",
       "      <td>PCIAT-PCIAT_06</td>\n",
       "      <td>How often do your child's grades suffer because of the amount of time he or she spends online?</td>\n",
       "    </tr>\n",
       "    <tr>\n",
       "      <th>61</th>\n",
       "      <td>PCIAT-PCIAT_07</td>\n",
       "      <td>How often does your child check his or her e-mail before doing something else?</td>\n",
       "    </tr>\n",
       "    <tr>\n",
       "      <th>62</th>\n",
       "      <td>PCIAT-PCIAT_08</td>\n",
       "      <td>How often does your child seem withdrawn from others since discovering the Internet?</td>\n",
       "    </tr>\n",
       "    <tr>\n",
       "      <th>63</th>\n",
       "      <td>PCIAT-PCIAT_09</td>\n",
       "      <td>How often does your child become defensive or secretive when asked what he or she does online?</td>\n",
       "    </tr>\n",
       "    <tr>\n",
       "      <th>64</th>\n",
       "      <td>PCIAT-PCIAT_10</td>\n",
       "      <td>How often have you caught your child sneaking online against your wishes?</td>\n",
       "    </tr>\n",
       "    <tr>\n",
       "      <th>65</th>\n",
       "      <td>PCIAT-PCIAT_11</td>\n",
       "      <td>How often does your child spend time along in his or her room playing on the computer?</td>\n",
       "    </tr>\n",
       "    <tr>\n",
       "      <th>66</th>\n",
       "      <td>PCIAT-PCIAT_12</td>\n",
       "      <td>How often does your child receive strange phone calls from new \"online\" friends?</td>\n",
       "    </tr>\n",
       "    <tr>\n",
       "      <th>67</th>\n",
       "      <td>PCIAT-PCIAT_13</td>\n",
       "      <td>How often does your child snap, yell, or act annoyed if bothered while online?</td>\n",
       "    </tr>\n",
       "    <tr>\n",
       "      <th>68</th>\n",
       "      <td>PCIAT-PCIAT_14</td>\n",
       "      <td>How often does your child seem more tired and fatigued than he or she did before the Internet came along?</td>\n",
       "    </tr>\n",
       "    <tr>\n",
       "      <th>69</th>\n",
       "      <td>PCIAT-PCIAT_15</td>\n",
       "      <td>How often does your child seem preoccupied with being back online when off-line?</td>\n",
       "    </tr>\n",
       "    <tr>\n",
       "      <th>70</th>\n",
       "      <td>PCIAT-PCIAT_16</td>\n",
       "      <td>How often does your child throw tantrums with your interference about how long he or she spends online?</td>\n",
       "    </tr>\n",
       "    <tr>\n",
       "      <th>71</th>\n",
       "      <td>PCIAT-PCIAT_17</td>\n",
       "      <td>How often does your child choose to spend time online rather than doing once enjoyed hobbies and/or outside interests?</td>\n",
       "    </tr>\n",
       "    <tr>\n",
       "      <th>72</th>\n",
       "      <td>PCIAT-PCIAT_18</td>\n",
       "      <td>How often does your child become angry or belligerent when your place time limits on how much time he or shes is allowed to spend online?</td>\n",
       "    </tr>\n",
       "    <tr>\n",
       "      <th>73</th>\n",
       "      <td>PCIAT-PCIAT_19</td>\n",
       "      <td>How often does your child choose to spend more time online than going out with friends?</td>\n",
       "    </tr>\n",
       "    <tr>\n",
       "      <th>74</th>\n",
       "      <td>PCIAT-PCIAT_20</td>\n",
       "      <td>How often does your child feel depressed, moody, or nervous when off-line which seems to go away once back online?</td>\n",
       "    </tr>\n",
       "    <tr>\n",
       "      <th>75</th>\n",
       "      <td>PCIAT-PCIAT_Total</td>\n",
       "      <td>Total Score</td>\n",
       "    </tr>\n",
       "  </tbody>\n",
       "</table>\n",
       "</div>"
      ],
      "text/plain": [
       "                Field  \\\n",
       "55     PCIAT-PCIAT_01   \n",
       "56     PCIAT-PCIAT_02   \n",
       "57     PCIAT-PCIAT_03   \n",
       "58     PCIAT-PCIAT_04   \n",
       "59     PCIAT-PCIAT_05   \n",
       "60     PCIAT-PCIAT_06   \n",
       "61     PCIAT-PCIAT_07   \n",
       "62     PCIAT-PCIAT_08   \n",
       "63     PCIAT-PCIAT_09   \n",
       "64     PCIAT-PCIAT_10   \n",
       "65     PCIAT-PCIAT_11   \n",
       "66     PCIAT-PCIAT_12   \n",
       "67     PCIAT-PCIAT_13   \n",
       "68     PCIAT-PCIAT_14   \n",
       "69     PCIAT-PCIAT_15   \n",
       "70     PCIAT-PCIAT_16   \n",
       "71     PCIAT-PCIAT_17   \n",
       "72     PCIAT-PCIAT_18   \n",
       "73     PCIAT-PCIAT_19   \n",
       "74     PCIAT-PCIAT_20   \n",
       "75  PCIAT-PCIAT_Total   \n",
       "\n",
       "                                                                                                                                  Description  \n",
       "55                                                                      How often does your child disobey time limits you set for online use?  \n",
       "56                                                              How often does your child neglect household chores to spend more time online?  \n",
       "57                                            How often does your child prefer to spend time online rather than with the rest of your family?  \n",
       "58                                                                 How often does your child form new relationships with fellow online users?  \n",
       "59                                                               How often do you complain about the amount of time your child spends online?  \n",
       "60                                             How often do your child's grades suffer because of the amount of time he or she spends online?  \n",
       "61                                                             How often does your child check his or her e-mail before doing something else?  \n",
       "62                                                       How often does your child seem withdrawn from others since discovering the Internet?  \n",
       "63                                             How often does your child become defensive or secretive when asked what he or she does online?  \n",
       "64                                                                  How often have you caught your child sneaking online against your wishes?  \n",
       "65                                                     How often does your child spend time along in his or her room playing on the computer?  \n",
       "66                                                           How often does your child receive strange phone calls from new \"online\" friends?  \n",
       "67                                                             How often does your child snap, yell, or act annoyed if bothered while online?  \n",
       "68                                  How often does your child seem more tired and fatigued than he or she did before the Internet came along?  \n",
       "69                                                           How often does your child seem preoccupied with being back online when off-line?  \n",
       "70                                    How often does your child throw tantrums with your interference about how long he or she spends online?  \n",
       "71                     How often does your child choose to spend time online rather than doing once enjoyed hobbies and/or outside interests?  \n",
       "72  How often does your child become angry or belligerent when your place time limits on how much time he or shes is allowed to spend online?  \n",
       "73                                                    How often does your child choose to spend more time online than going out with friends?  \n",
       "74                         How often does your child feel depressed, moody, or nervous when off-line which seems to go away once back online?  \n",
       "75                                                                                                                                Total Score  "
      ]
     },
     "execution_count": 7,
     "metadata": {},
     "output_type": "execute_result"
    }
   ],
   "source": [
    "pd.set_option('display.max_colwidth', None)\n",
    "questions = data_dictionary[data_dictionary.Field.str.contains('PCIAT-PCIAT')]\n",
    "questions[['Field','Description']]"
   ]
  },
  {
   "cell_type": "code",
   "execution_count": 8,
   "id": "cc6c77e9",
   "metadata": {
    "execution": {
     "iopub.execute_input": "2025-06-16T16:55:10.719050Z",
     "iopub.status.busy": "2025-06-16T16:55:10.718613Z",
     "iopub.status.idle": "2025-06-16T16:55:10.791665Z",
     "shell.execute_reply": "2025-06-16T16:55:10.790513Z"
    },
    "papermill": {
     "duration": 0.086549,
     "end_time": "2025-06-16T16:55:10.794104",
     "exception": false,
     "start_time": "2025-06-16T16:55:10.707555",
     "status": "completed"
    },
    "tags": []
   },
   "outputs": [
    {
     "data": {
      "text/html": [
       "<style type=\"text/css\">\n",
       "#T_b352b_row0_col0 {\n",
       "  background-color: #800026;\n",
       "  color: #f1f1f1;\n",
       "}\n",
       "#T_b352b_row1_col0 {\n",
       "  background-color: #ca0923;\n",
       "  color: #f1f1f1;\n",
       "}\n",
       "#T_b352b_row2_col0, #T_b352b_row3_col0, #T_b352b_row4_col0 {\n",
       "  background-color: #cd0b22;\n",
       "  color: #f1f1f1;\n",
       "}\n",
       "#T_b352b_row5_col0 {\n",
       "  background-color: #d41020;\n",
       "  color: #f1f1f1;\n",
       "}\n",
       "#T_b352b_row6_col0 {\n",
       "  background-color: #d7121f;\n",
       "  color: #f1f1f1;\n",
       "}\n",
       "#T_b352b_row7_col0, #T_b352b_row8_col0, #T_b352b_row9_col0 {\n",
       "  background-color: #dd161d;\n",
       "  color: #f1f1f1;\n",
       "}\n",
       "#T_b352b_row10_col0 {\n",
       "  background-color: #e1191d;\n",
       "  color: #f1f1f1;\n",
       "}\n",
       "#T_b352b_row11_col0 {\n",
       "  background-color: #e2191c;\n",
       "  color: #f1f1f1;\n",
       "}\n",
       "#T_b352b_row12_col0 {\n",
       "  background-color: #e6211e;\n",
       "  color: #f1f1f1;\n",
       "}\n",
       "#T_b352b_row13_col0 {\n",
       "  background-color: #e8241f;\n",
       "  color: #f1f1f1;\n",
       "}\n",
       "#T_b352b_row14_col0, #T_b352b_row15_col0 {\n",
       "  background-color: #e92720;\n",
       "  color: #f1f1f1;\n",
       "}\n",
       "#T_b352b_row16_col0 {\n",
       "  background-color: #ed3022;\n",
       "  color: #f1f1f1;\n",
       "}\n",
       "#T_b352b_row17_col0 {\n",
       "  background-color: #f13624;\n",
       "  color: #f1f1f1;\n",
       "}\n",
       "#T_b352b_row18_col0 {\n",
       "  background-color: #fc512b;\n",
       "  color: #f1f1f1;\n",
       "}\n",
       "#T_b352b_row19_col0 {\n",
       "  background-color: #fd923e;\n",
       "  color: #000000;\n",
       "}\n",
       "#T_b352b_row20_col0 {\n",
       "  background-color: #fea948;\n",
       "  color: #000000;\n",
       "}\n",
       "#T_b352b_row21_col0 {\n",
       "  background-color: #ffffcc;\n",
       "  color: #000000;\n",
       "}\n",
       "</style>\n",
       "<table id=\"T_b352b\">\n",
       "  <thead>\n",
       "    <tr>\n",
       "      <th class=\"blank level0\" >&nbsp;</th>\n",
       "      <th id=\"T_b352b_level0_col0\" class=\"col_heading level0 col0\" >PCIAT-PCIAT_Total</th>\n",
       "    </tr>\n",
       "  </thead>\n",
       "  <tbody>\n",
       "    <tr>\n",
       "      <th id=\"T_b352b_level0_row0\" class=\"row_heading level0 row0\" >PCIAT-PCIAT_Total</th>\n",
       "      <td id=\"T_b352b_row0_col0\" class=\"data row0 col0\" >1.000000</td>\n",
       "    </tr>\n",
       "    <tr>\n",
       "      <th id=\"T_b352b_level0_row1\" class=\"row_heading level0 row1\" >PCIAT-PCIAT_05</th>\n",
       "      <td id=\"T_b352b_row1_col0\" class=\"data row1 col0\" >0.830993</td>\n",
       "    </tr>\n",
       "    <tr>\n",
       "      <th id=\"T_b352b_level0_row2\" class=\"row_heading level0 row2\" >PCIAT-PCIAT_15</th>\n",
       "      <td id=\"T_b352b_row2_col0\" class=\"data row2 col0\" >0.823996</td>\n",
       "    </tr>\n",
       "    <tr>\n",
       "      <th id=\"T_b352b_level0_row3\" class=\"row_heading level0 row3\" >PCIAT-PCIAT_17</th>\n",
       "      <td id=\"T_b352b_row3_col0\" class=\"data row3 col0\" >0.823708</td>\n",
       "    </tr>\n",
       "    <tr>\n",
       "      <th id=\"T_b352b_level0_row4\" class=\"row_heading level0 row4\" >PCIAT-PCIAT_03</th>\n",
       "      <td id=\"T_b352b_row4_col0\" class=\"data row4 col0\" >0.823336</td>\n",
       "    </tr>\n",
       "    <tr>\n",
       "      <th id=\"T_b352b_level0_row5\" class=\"row_heading level0 row5\" >PCIAT-PCIAT_18</th>\n",
       "      <td id=\"T_b352b_row5_col0\" class=\"data row5 col0\" >0.802030</td>\n",
       "    </tr>\n",
       "    <tr>\n",
       "      <th id=\"T_b352b_level0_row6\" class=\"row_heading level0 row6\" >PCIAT-PCIAT_02</th>\n",
       "      <td id=\"T_b352b_row6_col0\" class=\"data row6 col0\" >0.788802</td>\n",
       "    </tr>\n",
       "    <tr>\n",
       "      <th id=\"T_b352b_level0_row7\" class=\"row_heading level0 row7\" >PCIAT-PCIAT_13</th>\n",
       "      <td id=\"T_b352b_row7_col0\" class=\"data row7 col0\" >0.771990</td>\n",
       "    </tr>\n",
       "    <tr>\n",
       "      <th id=\"T_b352b_level0_row8\" class=\"row_heading level0 row8\" >PCIAT-PCIAT_08</th>\n",
       "      <td id=\"T_b352b_row8_col0\" class=\"data row8 col0\" >0.770499</td>\n",
       "    </tr>\n",
       "    <tr>\n",
       "      <th id=\"T_b352b_level0_row9\" class=\"row_heading level0 row9\" >PCIAT-PCIAT_16</th>\n",
       "      <td id=\"T_b352b_row9_col0\" class=\"data row9 col0\" >0.769422</td>\n",
       "    </tr>\n",
       "    <tr>\n",
       "      <th id=\"T_b352b_level0_row10\" class=\"row_heading level0 row10\" >PCIAT-PCIAT_10</th>\n",
       "      <td id=\"T_b352b_row10_col0\" class=\"data row10 col0\" >0.761463</td>\n",
       "    </tr>\n",
       "    <tr>\n",
       "      <th id=\"T_b352b_level0_row11\" class=\"row_heading level0 row11\" >PCIAT-PCIAT_20</th>\n",
       "      <td id=\"T_b352b_row11_col0\" class=\"data row11 col0\" >0.754277</td>\n",
       "    </tr>\n",
       "    <tr>\n",
       "      <th id=\"T_b352b_level0_row12\" class=\"row_heading level0 row12\" >PCIAT-PCIAT_19</th>\n",
       "      <td id=\"T_b352b_row12_col0\" class=\"data row12 col0\" >0.737243</td>\n",
       "    </tr>\n",
       "    <tr>\n",
       "      <th id=\"T_b352b_level0_row13\" class=\"row_heading level0 row13\" >PCIAT-PCIAT_01</th>\n",
       "      <td id=\"T_b352b_row13_col0\" class=\"data row13 col0\" >0.727959</td>\n",
       "    </tr>\n",
       "    <tr>\n",
       "      <th id=\"T_b352b_level0_row14\" class=\"row_heading level0 row14\" >PCIAT-PCIAT_14</th>\n",
       "      <td id=\"T_b352b_row14_col0\" class=\"data row14 col0\" >0.721995</td>\n",
       "    </tr>\n",
       "    <tr>\n",
       "      <th id=\"T_b352b_level0_row15\" class=\"row_heading level0 row15\" >PCIAT-PCIAT_09</th>\n",
       "      <td id=\"T_b352b_row15_col0\" class=\"data row15 col0\" >0.720953</td>\n",
       "    </tr>\n",
       "    <tr>\n",
       "      <th id=\"T_b352b_level0_row16\" class=\"row_heading level0 row16\" >PCIAT-PCIAT_06</th>\n",
       "      <td id=\"T_b352b_row16_col0\" class=\"data row16 col0\" >0.703261</td>\n",
       "    </tr>\n",
       "    <tr>\n",
       "      <th id=\"T_b352b_level0_row17\" class=\"row_heading level0 row17\" >PCIAT-PCIAT_11</th>\n",
       "      <td id=\"T_b352b_row17_col0\" class=\"data row17 col0\" >0.684780</td>\n",
       "    </tr>\n",
       "    <tr>\n",
       "      <th id=\"T_b352b_level0_row18\" class=\"row_heading level0 row18\" >PCIAT-PCIAT_04</th>\n",
       "      <td id=\"T_b352b_row18_col0\" class=\"data row18 col0\" >0.625394</td>\n",
       "    </tr>\n",
       "    <tr>\n",
       "      <th id=\"T_b352b_level0_row19\" class=\"row_heading level0 row19\" >PCIAT-PCIAT_07</th>\n",
       "      <td id=\"T_b352b_row19_col0\" class=\"data row19 col0\" >0.491768</td>\n",
       "    </tr>\n",
       "    <tr>\n",
       "      <th id=\"T_b352b_level0_row20\" class=\"row_heading level0 row20\" >PCIAT-PCIAT_12</th>\n",
       "      <td id=\"T_b352b_row20_col0\" class=\"data row20 col0\" >0.412194</td>\n",
       "    </tr>\n",
       "    <tr>\n",
       "      <th id=\"T_b352b_level0_row21\" class=\"row_heading level0 row21\" >PCIAT-Season</th>\n",
       "      <td id=\"T_b352b_row21_col0\" class=\"data row21 col0\" >0.015487</td>\n",
       "    </tr>\n",
       "  </tbody>\n",
       "</table>\n"
      ],
      "text/plain": [
       "<pandas.io.formats.style.Styler at 0x7d7424e29a20>"
      ]
     },
     "execution_count": 8,
     "metadata": {},
     "output_type": "execute_result"
    }
   ],
   "source": [
    "corr = train[PCIAT_cols].corr()['PCIAT-PCIAT_Total'].sort_values(ascending = False)\n",
    "corr = pd.DataFrame(corr)\n",
    "corr.style.background_gradient(cmap='YlOrRd')"
   ]
  },
  {
   "cell_type": "code",
   "execution_count": 9,
   "id": "ec8801fc",
   "metadata": {
    "execution": {
     "iopub.execute_input": "2025-06-16T16:55:10.815224Z",
     "iopub.status.busy": "2025-06-16T16:55:10.814857Z",
     "iopub.status.idle": "2025-06-16T16:55:11.141908Z",
     "shell.execute_reply": "2025-06-16T16:55:11.140751Z"
    },
    "papermill": {
     "duration": 0.34065,
     "end_time": "2025-06-16T16:55:11.144248",
     "exception": false,
     "start_time": "2025-06-16T16:55:10.803598",
     "status": "completed"
    },
    "tags": []
   },
   "outputs": [
    {
     "data": {
      "text/plain": [
       "Text(0.5, 1.0, 'Boxplot of PCIAT Total Scores')"
      ]
     },
     "execution_count": 9,
     "metadata": {},
     "output_type": "execute_result"
    },
    {
     "data": {
      "image/png": "[encoded data removed]",
      "text/plain": [
       "<Figure size 640x480 with 1 Axes>"
      ]
     },
     "metadata": {},
     "output_type": "display_data"
    }
   ],
   "source": [
    "sns.boxplot(train, x = 'PCIAT-PCIAT_Total').set_title('Boxplot of PCIAT Total Scores')"
   ]
  },
  {
   "cell_type": "code",
   "execution_count": 10,
   "id": "5dcccaf7",
   "metadata": {
    "execution": {
     "iopub.execute_input": "2025-06-16T16:55:11.165690Z",
     "iopub.status.busy": "2025-06-16T16:55:11.165256Z",
     "iopub.status.idle": "2025-06-16T16:55:11.185031Z",
     "shell.execute_reply": "2025-06-16T16:55:11.183913Z"
    },
    "papermill": {
     "duration": 0.033421,
     "end_time": "2025-06-16T16:55:11.187511",
     "exception": false,
     "start_time": "2025-06-16T16:55:11.154090",
     "status": "completed"
    },
    "tags": []
   },
   "outputs": [
    {
     "name": "stdout",
     "output_type": "stream",
     "text": [
      "sii\n",
      "0.0    1594\n",
      "Name: count, dtype: int64\n",
      "sii\n",
      "1.0    730\n",
      "Name: count, dtype: int64\n",
      "sii\n",
      "2.0    378\n",
      "Name: count, dtype: int64\n",
      "sii\n",
      "3.0    34\n",
      "Name: count, dtype: int64\n"
     ]
    }
   ],
   "source": [
    "print(train[train['PCIAT-PCIAT_Total']<=30].sii.value_counts())\n",
    "print(train[(train['PCIAT-PCIAT_Total']>30) \n",
    "    & (train['PCIAT-PCIAT_Total']<50)].sii.value_counts())\n",
    "print(train[(train['PCIAT-PCIAT_Total']>=50) \n",
    "    & (train['PCIAT-PCIAT_Total']<80)].sii.value_counts())\n",
    "print(train[train['PCIAT-PCIAT_Total']>=80].sii.value_counts())"
   ]
  },
  {
   "cell_type": "code",
   "execution_count": 11,
   "id": "07fbe61c",
   "metadata": {
    "execution": {
     "iopub.execute_input": "2025-06-16T16:55:11.209330Z",
     "iopub.status.busy": "2025-06-16T16:55:11.208915Z",
     "iopub.status.idle": "2025-06-16T16:55:11.216267Z",
     "shell.execute_reply": "2025-06-16T16:55:11.215181Z"
    },
    "papermill": {
     "duration": 0.021174,
     "end_time": "2025-06-16T16:55:11.218686",
     "exception": false,
     "start_time": "2025-06-16T16:55:11.197512",
     "status": "completed"
    },
    "tags": []
   },
   "outputs": [],
   "source": [
    "PCIAT_cols.remove('PCIAT-PCIAT_Total')\n",
    "train = train.drop(columns = PCIAT_cols)"
   ]
  },
  {
   "cell_type": "markdown",
   "id": "1b71c797",
   "metadata": {
    "papermill": {
     "duration": 0.009449,
     "end_time": "2025-06-16T16:55:11.238079",
     "exception": false,
     "start_time": "2025-06-16T16:55:11.228630",
     "status": "completed"
    },
    "tags": []
   },
   "source": [
    "**5. SII(Severity Impairment Index)**# "
   ]
  },
  {
   "cell_type": "markdown",
   "id": "fd1fde46",
   "metadata": {
    "papermill": {
     "duration": 0.009758,
     "end_time": "2025-06-16T16:55:11.258148",
     "exception": false,
     "start_time": "2025-06-16T16:55:11.248390",
     "status": "completed"
    },
    "tags": []
   },
   "source": [
    "* There was a reference to excessive internet usage amongst children and young people\n",
    "* One of the puzzling things about the data is that, even for the 34 'severe' cases of PIU where sii =3, we can see that 5 participants assessed as severe are hardly using the internet at all."
   ]
  },
  {
   "cell_type": "code",
   "execution_count": 12,
   "id": "9dc13b76",
   "metadata": {
    "execution": {
     "iopub.execute_input": "2025-06-16T16:55:11.279361Z",
     "iopub.status.busy": "2025-06-16T16:55:11.279007Z",
     "iopub.status.idle": "2025-06-16T16:55:11.615388Z",
     "shell.execute_reply": "2025-06-16T16:55:11.614206Z"
    },
    "papermill": {
     "duration": 0.349398,
     "end_time": "2025-06-16T16:55:11.617426",
     "exception": false,
     "start_time": "2025-06-16T16:55:11.268028",
     "status": "completed"
    },
    "tags": []
   },
   "outputs": [
    {
     "data": {
      "text/plain": [
       "Text(0.5, 1.0, 'Count of sii')"
      ]
     },
     "execution_count": 12,
     "metadata": {},
     "output_type": "execute_result"
    },
    {
     "data": {
      "image/png": "[encoded data removed]",
      "text/plain": [
       "<Figure size 640x480 with 1 Axes>"
      ]
     },
     "metadata": {},
     "output_type": "display_data"
    }
   ],
   "source": [
    "sns.countplot(train, x = 'sii').set_title('Count of sii')"
   ]
  },
  {
   "cell_type": "code",
   "execution_count": 13,
   "id": "a3c73eb7",
   "metadata": {
    "execution": {
     "iopub.execute_input": "2025-06-16T16:55:11.639771Z",
     "iopub.status.busy": "2025-06-16T16:55:11.639359Z",
     "iopub.status.idle": "2025-06-16T16:55:12.678726Z",
     "shell.execute_reply": "2025-06-16T16:55:12.677494Z"
    },
    "papermill": {
     "duration": 1.053627,
     "end_time": "2025-06-16T16:55:12.681414",
     "exception": false,
     "start_time": "2025-06-16T16:55:11.627787",
     "status": "completed"
    },
    "tags": []
   },
   "outputs": [
    {
     "data": {
      "image/png": "[encoded data removed]",
      "text/plain": [
       "<Figure size 640x480 with 1 Axes>"
      ]
     },
     "metadata": {},
     "output_type": "display_data"
    },
    {
     "data": {
      "image/png": "[encoded data removed]",
      "text/plain": [
       "<Figure size 640x480 with 1 Axes>"
      ]
     },
     "metadata": {},
     "output_type": "display_data"
    },
    {
     "data": {
      "image/png": "[encoded data removed]",
      "text/plain": [
       "<Figure size 640x480 with 1 Axes>"
      ]
     },
     "metadata": {},
     "output_type": "display_data"
    },
    {
     "data": {
      "image/png": "[encoded data removed]",
      "text/plain": [
       "<Figure size 640x480 with 1 Axes>"
      ]
     },
     "metadata": {},
     "output_type": "display_data"
    }
   ],
   "source": [
    "vals = ['PIU = 0', 'PIU = 1','PIU = 2', 'PIU = 3']\n",
    "\n",
    "for i in range(4):\n",
    "    plt.figure()\n",
    "    plot = sns.countplot(x = train[train.sii==i]['PreInt_EduHx-computerinternet_hoursday'])\n",
    "    plot.set_title(vals[i])"
   ]
  },
  {
   "cell_type": "code",
   "execution_count": 14,
   "id": "41f73d3f",
   "metadata": {
    "execution": {
     "iopub.execute_input": "2025-06-16T16:55:12.706801Z",
     "iopub.status.busy": "2025-06-16T16:55:12.706353Z",
     "iopub.status.idle": "2025-06-16T16:55:12.716332Z",
     "shell.execute_reply": "2025-06-16T16:55:12.714961Z"
    },
    "papermill": {
     "duration": 0.02571,
     "end_time": "2025-06-16T16:55:12.718889",
     "exception": false,
     "start_time": "2025-06-16T16:55:12.693179",
     "status": "completed"
    },
    "tags": []
   },
   "outputs": [],
   "source": [
    "train = train.dropna(subset='sii')"
   ]
  },
  {
   "cell_type": "markdown",
   "id": "d78b0286",
   "metadata": {
    "papermill": {
     "duration": 0.011108,
     "end_time": "2025-06-16T16:55:12.741561",
     "exception": false,
     "start_time": "2025-06-16T16:55:12.730453",
     "status": "completed"
    },
    "tags": []
   },
   "source": [
    "**6. Correlations**# "
   ]
  },
  {
   "cell_type": "markdown",
   "id": "9b24e6cc",
   "metadata": {
    "papermill": {
     "duration": 0.011472,
     "end_time": "2025-06-16T16:55:12.766032",
     "exception": false,
     "start_time": "2025-06-16T16:55:12.754560",
     "status": "completed"
    },
    "tags": []
   },
   "source": [
    "* With large numbers of features to choose from I decided to do some feature selection and check it's impact on the model.\n",
    "* Here I select the features with the strongest correlation with the PCIAT total and drop the weaker ones.\n",
    "* Two features, BMI and sleep disturbance, appear to be measured twice in the data with slighly different results.\n",
    "* Clearly we don't need to keep both sets of features which will be closely correlated with each other even if not identical.\n",
    "* Here I drop Physical-BMI an d SDS-SDS_Total_Raw which appear to have slightly lower correlations."
   ]
  },
  {
   "cell_type": "code",
   "execution_count": 15,
   "id": "852b596f",
   "metadata": {
    "execution": {
     "iopub.execute_input": "2025-06-16T16:55:12.790922Z",
     "iopub.status.busy": "2025-06-16T16:55:12.790485Z",
     "iopub.status.idle": "2025-06-16T16:55:12.836831Z",
     "shell.execute_reply": "2025-06-16T16:55:12.835145Z"
    },
    "papermill": {
     "duration": 0.062181,
     "end_time": "2025-06-16T16:55:12.839715",
     "exception": false,
     "start_time": "2025-06-16T16:55:12.777534",
     "status": "completed"
    },
    "tags": []
   },
   "outputs": [
    {
     "data": {
      "text/html": [
       "<style type=\"text/css\">\n",
       "#T_cb02b_row0_col0 {\n",
       "  background-color: #800026;\n",
       "  color: #f1f1f1;\n",
       "}\n",
       "#T_cb02b_row1_col0 {\n",
       "  background-color: #aa0026;\n",
       "  color: #f1f1f1;\n",
       "}\n",
       "#T_cb02b_row2_col0 {\n",
       "  background-color: #fd8f3d;\n",
       "  color: #f1f1f1;\n",
       "}\n",
       "#T_cb02b_row3_col0 {\n",
       "  background-color: #fd913e;\n",
       "  color: #000000;\n",
       "}\n",
       "#T_cb02b_row4_col0 {\n",
       "  background-color: #fd9a42;\n",
       "  color: #000000;\n",
       "}\n",
       "#T_cb02b_row5_col0 {\n",
       "  background-color: #fea044;\n",
       "  color: #000000;\n",
       "}\n",
       "#T_cb02b_row6_col0 {\n",
       "  background-color: #fea647;\n",
       "  color: #000000;\n",
       "}\n",
       "#T_cb02b_row7_col0 {\n",
       "  background-color: #feb04b;\n",
       "  color: #000000;\n",
       "}\n",
       "#T_cb02b_row8_col0 {\n",
       "  background-color: #febb56;\n",
       "  color: #000000;\n",
       "}\n",
       "#T_cb02b_row9_col0, #T_cb02b_row10_col0 {\n",
       "  background-color: #febe59;\n",
       "  color: #000000;\n",
       "}\n",
       "#T_cb02b_row11_col0 {\n",
       "  background-color: #febf5a;\n",
       "  color: #000000;\n",
       "}\n",
       "#T_cb02b_row12_col0 {\n",
       "  background-color: #fec35e;\n",
       "  color: #000000;\n",
       "}\n",
       "#T_cb02b_row13_col0, #T_cb02b_row14_col0 {\n",
       "  background-color: #feca66;\n",
       "  color: #000000;\n",
       "}\n",
       "#T_cb02b_row15_col0 {\n",
       "  background-color: #fed470;\n",
       "  color: #000000;\n",
       "}\n",
       "#T_cb02b_row16_col0, #T_cb02b_row17_col0 {\n",
       "  background-color: #fed774;\n",
       "  color: #000000;\n",
       "}\n",
       "#T_cb02b_row18_col0 {\n",
       "  background-color: #fed977;\n",
       "  color: #000000;\n",
       "}\n",
       "#T_cb02b_row19_col0 {\n",
       "  background-color: #fedd7e;\n",
       "  color: #000000;\n",
       "}\n",
       "#T_cb02b_row20_col0 {\n",
       "  background-color: #fedd7f;\n",
       "  color: #000000;\n",
       "}\n",
       "#T_cb02b_row21_col0, #T_cb02b_row22_col0 {\n",
       "  background-color: #fee085;\n",
       "  color: #000000;\n",
       "}\n",
       "#T_cb02b_row23_col0 {\n",
       "  background-color: #fee288;\n",
       "  color: #000000;\n",
       "}\n",
       "#T_cb02b_row24_col0 {\n",
       "  background-color: #fee38b;\n",
       "  color: #000000;\n",
       "}\n",
       "#T_cb02b_row25_col0 {\n",
       "  background-color: #ffe58f;\n",
       "  color: #000000;\n",
       "}\n",
       "#T_cb02b_row26_col0, #T_cb02b_row27_col0, #T_cb02b_row28_col0 {\n",
       "  background-color: #ffe590;\n",
       "  color: #000000;\n",
       "}\n",
       "#T_cb02b_row29_col0 {\n",
       "  background-color: #ffe793;\n",
       "  color: #000000;\n",
       "}\n",
       "#T_cb02b_row30_col0, #T_cb02b_row31_col0, #T_cb02b_row32_col0, #T_cb02b_row33_col0 {\n",
       "  background-color: #ffe794;\n",
       "  color: #000000;\n",
       "}\n",
       "#T_cb02b_row34_col0 {\n",
       "  background-color: #ffe895;\n",
       "  color: #000000;\n",
       "}\n",
       "#T_cb02b_row35_col0 {\n",
       "  background-color: #ffe997;\n",
       "  color: #000000;\n",
       "}\n",
       "#T_cb02b_row36_col0, #T_cb02b_row37_col0 {\n",
       "  background-color: #ffe998;\n",
       "  color: #000000;\n",
       "}\n",
       "#T_cb02b_row38_col0 {\n",
       "  background-color: #ffea99;\n",
       "  color: #000000;\n",
       "}\n",
       "#T_cb02b_row39_col0 {\n",
       "  background-color: #ffec9d;\n",
       "  color: #000000;\n",
       "}\n",
       "#T_cb02b_row40_col0 {\n",
       "  background-color: #ffec9f;\n",
       "  color: #000000;\n",
       "}\n",
       "#T_cb02b_row41_col0, #T_cb02b_row42_col0 {\n",
       "  background-color: #ffeda0;\n",
       "  color: #000000;\n",
       "}\n",
       "#T_cb02b_row43_col0, #T_cb02b_row44_col0 {\n",
       "  background-color: #ffeda1;\n",
       "  color: #000000;\n",
       "}\n",
       "#T_cb02b_row45_col0 {\n",
       "  background-color: #ffefa5;\n",
       "  color: #000000;\n",
       "}\n",
       "#T_cb02b_row46_col0 {\n",
       "  background-color: #fff0a7;\n",
       "  color: #000000;\n",
       "}\n",
       "#T_cb02b_row47_col0 {\n",
       "  background-color: #fff0a8;\n",
       "  color: #000000;\n",
       "}\n",
       "#T_cb02b_row48_col0, #T_cb02b_row49_col0, #T_cb02b_row50_col0 {\n",
       "  background-color: #fff1ab;\n",
       "  color: #000000;\n",
       "}\n",
       "#T_cb02b_row51_col0 {\n",
       "  background-color: #fff2ac;\n",
       "  color: #000000;\n",
       "}\n",
       "#T_cb02b_row52_col0 {\n",
       "  background-color: #fff3af;\n",
       "  color: #000000;\n",
       "}\n",
       "#T_cb02b_row53_col0 {\n",
       "  background-color: #fff5b5;\n",
       "  color: #000000;\n",
       "}\n",
       "#T_cb02b_row54_col0 {\n",
       "  background-color: #fff7b7;\n",
       "  color: #000000;\n",
       "}\n",
       "#T_cb02b_row55_col0, #T_cb02b_row56_col0 {\n",
       "  background-color: #fff8bb;\n",
       "  color: #000000;\n",
       "}\n",
       "#T_cb02b_row57_col0 {\n",
       "  background-color: #fff9bd;\n",
       "  color: #000000;\n",
       "}\n",
       "#T_cb02b_row58_col0 {\n",
       "  background-color: #fffac1;\n",
       "  color: #000000;\n",
       "}\n",
       "#T_cb02b_row59_col0 {\n",
       "  background-color: #ffffcc;\n",
       "  color: #000000;\n",
       "}\n",
       "</style>\n",
       "<table id=\"T_cb02b\">\n",
       "  <thead>\n",
       "    <tr>\n",
       "      <th class=\"blank level0\" >&nbsp;</th>\n",
       "      <th id=\"T_cb02b_level0_col0\" class=\"col_heading level0 col0\" >PCIAT-PCIAT_Total</th>\n",
       "    </tr>\n",
       "  </thead>\n",
       "  <tbody>\n",
       "    <tr>\n",
       "      <th id=\"T_cb02b_level0_row0\" class=\"row_heading level0 row0\" >PCIAT-PCIAT_Total</th>\n",
       "      <td id=\"T_cb02b_row0_col0\" class=\"data row0 col0\" >1.000000</td>\n",
       "    </tr>\n",
       "    <tr>\n",
       "      <th id=\"T_cb02b_level0_row1\" class=\"row_heading level0 row1\" >sii</th>\n",
       "      <td id=\"T_cb02b_row1_col0\" class=\"data row1 col0\" >0.899681</td>\n",
       "    </tr>\n",
       "    <tr>\n",
       "      <th id=\"T_cb02b_level0_row2\" class=\"row_heading level0 row2\" >Physical-Height</th>\n",
       "      <td id=\"T_cb02b_row2_col0\" class=\"data row2 col0\" >0.420765</td>\n",
       "    </tr>\n",
       "    <tr>\n",
       "      <th id=\"T_cb02b_level0_row3\" class=\"row_heading level0 row3\" >Basic_Demos-Age</th>\n",
       "      <td id=\"T_cb02b_row3_col0\" class=\"data row3 col0\" >0.409559</td>\n",
       "    </tr>\n",
       "    <tr>\n",
       "      <th id=\"T_cb02b_level0_row4\" class=\"row_heading level0 row4\" >PreInt_EduHx-computerinternet_hoursday</th>\n",
       "      <td id=\"T_cb02b_row4_col0\" class=\"data row4 col0\" >0.374124</td>\n",
       "    </tr>\n",
       "    <tr>\n",
       "      <th id=\"T_cb02b_level0_row5\" class=\"row_heading level0 row5\" >Physical-Weight</th>\n",
       "      <td id=\"T_cb02b_row5_col0\" class=\"data row5 col0\" >0.353048</td>\n",
       "    </tr>\n",
       "    <tr>\n",
       "      <th id=\"T_cb02b_level0_row6\" class=\"row_heading level0 row6\" >Physical-Waist_Circumference</th>\n",
       "      <td id=\"T_cb02b_row6_col0\" class=\"data row6 col0\" >0.327013</td>\n",
       "    </tr>\n",
       "    <tr>\n",
       "      <th id=\"T_cb02b_level0_row7\" class=\"row_heading level0 row7\" >FGC-FGC_CU</th>\n",
       "      <td id=\"T_cb02b_row7_col0\" class=\"data row7 col0\" >0.287494</td>\n",
       "    </tr>\n",
       "    <tr>\n",
       "      <th id=\"T_cb02b_level0_row8\" class=\"row_heading level0 row8\" >BIA-BIA_BMI</th>\n",
       "      <td id=\"T_cb02b_row8_col0\" class=\"data row8 col0\" >0.248060</td>\n",
       "    </tr>\n",
       "    <tr>\n",
       "      <th id=\"T_cb02b_level0_row9\" class=\"row_heading level0 row9\" >Physical-BMI</th>\n",
       "      <td id=\"T_cb02b_row9_col0\" class=\"data row9 col0\" >0.240858</td>\n",
       "    </tr>\n",
       "    <tr>\n",
       "      <th id=\"T_cb02b_level0_row10\" class=\"row_heading level0 row10\" >SDS-SDS_Total_T</th>\n",
       "      <td id=\"T_cb02b_row10_col0\" class=\"data row10 col0\" >0.237718</td>\n",
       "    </tr>\n",
       "    <tr>\n",
       "      <th id=\"T_cb02b_level0_row11\" class=\"row_heading level0 row11\" >SDS-SDS_Total_Raw</th>\n",
       "      <td id=\"T_cb02b_row11_col0\" class=\"data row11 col0\" >0.234432</td>\n",
       "    </tr>\n",
       "    <tr>\n",
       "      <th id=\"T_cb02b_level0_row12\" class=\"row_heading level0 row12\" >PAQ_A-Season</th>\n",
       "      <td id=\"T_cb02b_row12_col0\" class=\"data row12 col0\" >0.219292</td>\n",
       "    </tr>\n",
       "    <tr>\n",
       "      <th id=\"T_cb02b_level0_row13\" class=\"row_heading level0 row13\" >FGC-FGC_PU</th>\n",
       "      <td id=\"T_cb02b_row13_col0\" class=\"data row13 col0\" >0.196006</td>\n",
       "    </tr>\n",
       "    <tr>\n",
       "      <th id=\"T_cb02b_level0_row14\" class=\"row_heading level0 row14\" >BIA-BIA_Frame_num</th>\n",
       "      <td id=\"T_cb02b_row14_col0\" class=\"data row14 col0\" >0.193631</td>\n",
       "    </tr>\n",
       "    <tr>\n",
       "      <th id=\"T_cb02b_level0_row15\" class=\"row_heading level0 row15\" >FGC-FGC_GSD</th>\n",
       "      <td id=\"T_cb02b_row15_col0\" class=\"data row15 col0\" >0.160472</td>\n",
       "    </tr>\n",
       "    <tr>\n",
       "      <th id=\"T_cb02b_level0_row16\" class=\"row_heading level0 row16\" >Physical-Systolic_BP</th>\n",
       "      <td id=\"T_cb02b_row16_col0\" class=\"data row16 col0\" >0.147081</td>\n",
       "    </tr>\n",
       "    <tr>\n",
       "      <th id=\"T_cb02b_level0_row17\" class=\"row_heading level0 row17\" >FGC-FGC_GSND</th>\n",
       "      <td id=\"T_cb02b_row17_col0\" class=\"data row17 col0\" >0.146813</td>\n",
       "    </tr>\n",
       "    <tr>\n",
       "      <th id=\"T_cb02b_level0_row18\" class=\"row_heading level0 row18\" >FGC-FGC_TL</th>\n",
       "      <td id=\"T_cb02b_row18_col0\" class=\"data row18 col0\" >0.136696</td>\n",
       "    </tr>\n",
       "    <tr>\n",
       "      <th id=\"T_cb02b_level0_row19\" class=\"row_heading level0 row19\" >PAQ_C-Season</th>\n",
       "      <td id=\"T_cb02b_row19_col0\" class=\"data row19 col0\" >0.115316</td>\n",
       "    </tr>\n",
       "    <tr>\n",
       "      <th id=\"T_cb02b_level0_row20\" class=\"row_heading level0 row20\" >BIA-BIA_FFMI</th>\n",
       "      <td id=\"T_cb02b_row20_col0\" class=\"data row20 col0\" >0.109694</td>\n",
       "    </tr>\n",
       "    <tr>\n",
       "      <th id=\"T_cb02b_level0_row21\" class=\"row_heading level0 row21\" >BIA-BIA_FMI</th>\n",
       "      <td id=\"T_cb02b_row21_col0\" class=\"data row21 col0\" >0.085863</td>\n",
       "    </tr>\n",
       "    <tr>\n",
       "      <th id=\"T_cb02b_level0_row22\" class=\"row_heading level0 row22\" >BIA-BIA_Activity_Level_num</th>\n",
       "      <td id=\"T_cb02b_row22_col0\" class=\"data row22 col0\" >0.084548</td>\n",
       "    </tr>\n",
       "    <tr>\n",
       "      <th id=\"T_cb02b_level0_row23\" class=\"row_heading level0 row23\" >BIA-BIA_LST</th>\n",
       "      <td id=\"T_cb02b_row23_col0\" class=\"data row23 col0\" >0.075623</td>\n",
       "    </tr>\n",
       "    <tr>\n",
       "      <th id=\"T_cb02b_level0_row24\" class=\"row_heading level0 row24\" >Physical-Diastolic_BP</th>\n",
       "      <td id=\"T_cb02b_row24_col0\" class=\"data row24 col0\" >0.069321</td>\n",
       "    </tr>\n",
       "    <tr>\n",
       "      <th id=\"T_cb02b_level0_row25\" class=\"row_heading level0 row25\" >FGC-FGC_PU_Zone</th>\n",
       "      <td id=\"T_cb02b_row25_col0\" class=\"data row25 col0\" >0.056973</td>\n",
       "    </tr>\n",
       "    <tr>\n",
       "      <th id=\"T_cb02b_level0_row26\" class=\"row_heading level0 row26\" >BIA-BIA_DEE</th>\n",
       "      <td id=\"T_cb02b_row26_col0\" class=\"data row26 col0\" >0.053094</td>\n",
       "    </tr>\n",
       "    <tr>\n",
       "      <th id=\"T_cb02b_level0_row27\" class=\"row_heading level0 row27\" >BIA-BIA_SMM</th>\n",
       "      <td id=\"T_cb02b_row27_col0\" class=\"data row27 col0\" >0.052912</td>\n",
       "    </tr>\n",
       "    <tr>\n",
       "      <th id=\"T_cb02b_level0_row28\" class=\"row_heading level0 row28\" >BIA-BIA_ICW</th>\n",
       "      <td id=\"T_cb02b_row28_col0\" class=\"data row28 col0\" >0.052593</td>\n",
       "    </tr>\n",
       "    <tr>\n",
       "      <th id=\"T_cb02b_level0_row29\" class=\"row_heading level0 row29\" >BIA-BIA_TBW</th>\n",
       "      <td id=\"T_cb02b_row29_col0\" class=\"data row29 col0\" >0.043015</td>\n",
       "    </tr>\n",
       "    <tr>\n",
       "      <th id=\"T_cb02b_level0_row30\" class=\"row_heading level0 row30\" >BIA-BIA_Fat</th>\n",
       "      <td id=\"T_cb02b_row30_col0\" class=\"data row30 col0\" >0.038548</td>\n",
       "    </tr>\n",
       "    <tr>\n",
       "      <th id=\"T_cb02b_level0_row31\" class=\"row_heading level0 row31\" >BIA-BIA_BMR</th>\n",
       "      <td id=\"T_cb02b_row31_col0\" class=\"data row31 col0\" >0.037009</td>\n",
       "    </tr>\n",
       "    <tr>\n",
       "      <th id=\"T_cb02b_level0_row32\" class=\"row_heading level0 row32\" >BIA-BIA_FFM</th>\n",
       "      <td id=\"T_cb02b_row32_col0\" class=\"data row32 col0\" >0.037009</td>\n",
       "    </tr>\n",
       "    <tr>\n",
       "      <th id=\"T_cb02b_level0_row33\" class=\"row_heading level0 row33\" >BIA-BIA_ECW</th>\n",
       "      <td id=\"T_cb02b_row33_col0\" class=\"data row33 col0\" >0.035568</td>\n",
       "    </tr>\n",
       "    <tr>\n",
       "      <th id=\"T_cb02b_level0_row34\" class=\"row_heading level0 row34\" >PreInt_EduHx-Season</th>\n",
       "      <td id=\"T_cb02b_row34_col0\" class=\"data row34 col0\" >0.033788</td>\n",
       "    </tr>\n",
       "    <tr>\n",
       "      <th id=\"T_cb02b_level0_row35\" class=\"row_heading level0 row35\" >Basic_Demos-Enroll_Season</th>\n",
       "      <td id=\"T_cb02b_row35_col0\" class=\"data row35 col0\" >0.029793</td>\n",
       "    </tr>\n",
       "    <tr>\n",
       "      <th id=\"T_cb02b_level0_row36\" class=\"row_heading level0 row36\" >BIA-BIA_LDM</th>\n",
       "      <td id=\"T_cb02b_row36_col0\" class=\"data row36 col0\" >0.025885</td>\n",
       "    </tr>\n",
       "    <tr>\n",
       "      <th id=\"T_cb02b_level0_row37\" class=\"row_heading level0 row37\" >SDS-Season</th>\n",
       "      <td id=\"T_cb02b_row37_col0\" class=\"data row37 col0\" >0.025112</td>\n",
       "    </tr>\n",
       "    <tr>\n",
       "      <th id=\"T_cb02b_level0_row38\" class=\"row_heading level0 row38\" >Physical-Season</th>\n",
       "      <td id=\"T_cb02b_row38_col0\" class=\"data row38 col0\" >0.021411</td>\n",
       "    </tr>\n",
       "    <tr>\n",
       "      <th id=\"T_cb02b_level0_row39\" class=\"row_heading level0 row39\" >FGC-FGC_GSD_Zone</th>\n",
       "      <td id=\"T_cb02b_row39_col0\" class=\"data row39 col0\" >0.006861</td>\n",
       "    </tr>\n",
       "    <tr>\n",
       "      <th id=\"T_cb02b_level0_row40\" class=\"row_heading level0 row40\" >Fitness_Endurance-Time_Sec</th>\n",
       "      <td id=\"T_cb02b_row40_col0\" class=\"data row40 col0\" >-0.000373</td>\n",
       "    </tr>\n",
       "    <tr>\n",
       "      <th id=\"T_cb02b_level0_row41\" class=\"row_heading level0 row41\" >CGAS-Season</th>\n",
       "      <td id=\"T_cb02b_row41_col0\" class=\"data row41 col0\" >-0.003344</td>\n",
       "    </tr>\n",
       "    <tr>\n",
       "      <th id=\"T_cb02b_level0_row42\" class=\"row_heading level0 row42\" >FGC-FGC_CU_Zone</th>\n",
       "      <td id=\"T_cb02b_row42_col0\" class=\"data row42 col0\" >-0.004454</td>\n",
       "    </tr>\n",
       "    <tr>\n",
       "      <th id=\"T_cb02b_level0_row43\" class=\"row_heading level0 row43\" >BIA-BIA_BMC</th>\n",
       "      <td id=\"T_cb02b_row43_col0\" class=\"data row43 col0\" >-0.008870</td>\n",
       "    </tr>\n",
       "    <tr>\n",
       "      <th id=\"T_cb02b_level0_row44\" class=\"row_heading level0 row44\" >FGC-FGC_GSND_Zone</th>\n",
       "      <td id=\"T_cb02b_row44_col0\" class=\"data row44 col0\" >-0.009525</td>\n",
       "    </tr>\n",
       "    <tr>\n",
       "      <th id=\"T_cb02b_level0_row45\" class=\"row_heading level0 row45\" >PAQ_C-PAQ_C_Total</th>\n",
       "      <td id=\"T_cb02b_row45_col0\" class=\"data row45 col0\" >-0.021943</td>\n",
       "    </tr>\n",
       "    <tr>\n",
       "      <th id=\"T_cb02b_level0_row46\" class=\"row_heading level0 row46\" >PAQ_A-PAQ_A_Total</th>\n",
       "      <td id=\"T_cb02b_row46_col0\" class=\"data row46 col0\" >-0.026854</td>\n",
       "    </tr>\n",
       "    <tr>\n",
       "      <th id=\"T_cb02b_level0_row47\" class=\"row_heading level0 row47\" >FGC-Season</th>\n",
       "      <td id=\"T_cb02b_row47_col0\" class=\"data row47 col0\" >-0.030890</td>\n",
       "    </tr>\n",
       "    <tr>\n",
       "      <th id=\"T_cb02b_level0_row48\" class=\"row_heading level0 row48\" >FGC-FGC_TL_Zone</th>\n",
       "      <td id=\"T_cb02b_row48_col0\" class=\"data row48 col0\" >-0.037214</td>\n",
       "    </tr>\n",
       "    <tr>\n",
       "      <th id=\"T_cb02b_level0_row49\" class=\"row_heading level0 row49\" >Physical-HeartRate</th>\n",
       "      <td id=\"T_cb02b_row49_col0\" class=\"data row49 col0\" >-0.037594</td>\n",
       "    </tr>\n",
       "    <tr>\n",
       "      <th id=\"T_cb02b_level0_row50\" class=\"row_heading level0 row50\" >BIA-Season</th>\n",
       "      <td id=\"T_cb02b_row50_col0\" class=\"data row50 col0\" >-0.040922</td>\n",
       "    </tr>\n",
       "    <tr>\n",
       "      <th id=\"T_cb02b_level0_row51\" class=\"row_heading level0 row51\" >Fitness_Endurance-Max_Stage</th>\n",
       "      <td id=\"T_cb02b_row51_col0\" class=\"data row51 col0\" >-0.041720</td>\n",
       "    </tr>\n",
       "    <tr>\n",
       "      <th id=\"T_cb02b_level0_row52\" class=\"row_heading level0 row52\" >Fitness_Endurance-Time_Mins</th>\n",
       "      <td id=\"T_cb02b_row52_col0\" class=\"data row52 col0\" >-0.052376</td>\n",
       "    </tr>\n",
       "    <tr>\n",
       "      <th id=\"T_cb02b_level0_row53\" class=\"row_heading level0 row53\" >CGAS-CGAS_Score</th>\n",
       "      <td id=\"T_cb02b_row53_col0\" class=\"data row53 col0\" >-0.070542</td>\n",
       "    </tr>\n",
       "    <tr>\n",
       "      <th id=\"T_cb02b_level0_row54\" class=\"row_heading level0 row54\" >FGC-FGC_SRR</th>\n",
       "      <td id=\"T_cb02b_row54_col0\" class=\"data row54 col0\" >-0.077836</td>\n",
       "    </tr>\n",
       "    <tr>\n",
       "      <th id=\"T_cb02b_level0_row55\" class=\"row_heading level0 row55\" >FGC-FGC_SRL</th>\n",
       "      <td id=\"T_cb02b_row55_col0\" class=\"data row55 col0\" >-0.091221</td>\n",
       "    </tr>\n",
       "    <tr>\n",
       "      <th id=\"T_cb02b_level0_row56\" class=\"row_heading level0 row56\" >Basic_Demos-Sex</th>\n",
       "      <td id=\"T_cb02b_row56_col0\" class=\"data row56 col0\" >-0.093648</td>\n",
       "    </tr>\n",
       "    <tr>\n",
       "      <th id=\"T_cb02b_level0_row57\" class=\"row_heading level0 row57\" >Fitness_Endurance-Season</th>\n",
       "      <td id=\"T_cb02b_row57_col0\" class=\"data row57 col0\" >-0.097788</td>\n",
       "    </tr>\n",
       "    <tr>\n",
       "      <th id=\"T_cb02b_level0_row58\" class=\"row_heading level0 row58\" >FGC-FGC_SRR_Zone</th>\n",
       "      <td id=\"T_cb02b_row58_col0\" class=\"data row58 col0\" >-0.109682</td>\n",
       "    </tr>\n",
       "    <tr>\n",
       "      <th id=\"T_cb02b_level0_row59\" class=\"row_heading level0 row59\" >FGC-FGC_SRL_Zone</th>\n",
       "      <td id=\"T_cb02b_row59_col0\" class=\"data row59 col0\" >-0.148850</td>\n",
       "    </tr>\n",
       "  </tbody>\n",
       "</table>\n"
      ],
      "text/plain": [
       "<pandas.io.formats.style.Styler at 0x7d739440cdc0>"
      ]
     },
     "execution_count": 15,
     "metadata": {},
     "output_type": "execute_result"
    }
   ],
   "source": [
    "corr = pd.DataFrame(train.corr()['PCIAT-PCIAT_Total'].sort_values(ascending = False))\n",
    "corr.style.background_gradient(cmap='YlOrRd')"
   ]
  },
  {
   "cell_type": "code",
   "execution_count": 16,
   "id": "85e38ef4",
   "metadata": {
    "execution": {
     "iopub.execute_input": "2025-06-16T16:55:12.867048Z",
     "iopub.status.busy": "2025-06-16T16:55:12.866587Z",
     "iopub.status.idle": "2025-06-16T16:55:12.874247Z",
     "shell.execute_reply": "2025-06-16T16:55:12.873087Z"
    },
    "papermill": {
     "duration": 0.023645,
     "end_time": "2025-06-16T16:55:12.876556",
     "exception": false,
     "start_time": "2025-06-16T16:55:12.852911",
     "status": "completed"
    },
    "tags": []
   },
   "outputs": [],
   "source": [
    "selection = corr[(corr['PCIAT-PCIAT_Total'].abs()> 0.1)]\n",
    "selection = [val for val in selection.index]\n",
    "selection.remove('PCIAT-PCIAT_Total')\n",
    "selection.remove('sii')\n",
    "selection.remove('Physical-BMI')\n",
    "selection.remove('SDS-SDS_Total_Raw')"
   ]
  },
  {
   "cell_type": "code",
   "execution_count": 17,
   "id": "785c1cd1",
   "metadata": {
    "execution": {
     "iopub.execute_input": "2025-06-16T16:55:12.903953Z",
     "iopub.status.busy": "2025-06-16T16:55:12.903477Z",
     "iopub.status.idle": "2025-06-16T16:55:12.910504Z",
     "shell.execute_reply": "2025-06-16T16:55:12.909413Z"
    },
    "papermill": {
     "duration": 0.024072,
     "end_time": "2025-06-16T16:55:12.912855",
     "exception": false,
     "start_time": "2025-06-16T16:55:12.888783",
     "status": "completed"
    },
    "tags": []
   },
   "outputs": [
    {
     "data": {
      "text/plain": [
       "['Physical-Height',\n",
       " 'Basic_Demos-Age',\n",
       " 'PreInt_EduHx-computerinternet_hoursday',\n",
       " 'Physical-Weight',\n",
       " 'Physical-Waist_Circumference',\n",
       " 'FGC-FGC_CU',\n",
       " 'BIA-BIA_BMI',\n",
       " 'SDS-SDS_Total_T',\n",
       " 'PAQ_A-Season',\n",
       " 'FGC-FGC_PU',\n",
       " 'BIA-BIA_Frame_num',\n",
       " 'FGC-FGC_GSD',\n",
       " 'Physical-Systolic_BP',\n",
       " 'FGC-FGC_GSND',\n",
       " 'FGC-FGC_TL',\n",
       " 'PAQ_C-Season',\n",
       " 'BIA-BIA_FFMI',\n",
       " 'FGC-FGC_SRR_Zone',\n",
       " 'FGC-FGC_SRL_Zone']"
      ]
     },
     "execution_count": 17,
     "metadata": {},
     "output_type": "execute_result"
    }
   ],
   "source": [
    "selection"
   ]
  },
  {
   "cell_type": "markdown",
   "id": "cf95aedd",
   "metadata": {
    "papermill": {
     "duration": 0.011852,
     "end_time": "2025-06-16T16:55:12.937050",
     "exception": false,
     "start_time": "2025-06-16T16:55:12.925198",
     "status": "completed"
    },
    "tags": []
   },
   "source": [
    "**7. Missing Values**# "
   ]
  },
  {
   "cell_type": "markdown",
   "id": "bcc73bbd",
   "metadata": {
    "papermill": {
     "duration": 0.012852,
     "end_time": "2025-06-16T16:55:12.963494",
     "exception": false,
     "start_time": "2025-06-16T16:55:12.950642",
     "status": "completed"
    },
    "tags": []
   },
   "source": [
    "* There are large numbers of missing values remaining in the dataset, with 46 columns missing values and 8 columns missing more than half of their values.\n",
    "* For example, most of the waist circumference feature values are missing.\n",
    "* Let's drop columns where there are more than half values missing.\n",
    "* Though we have not included the actigraphy data in this notebook analysis, these records are only available for just over a third of respondents."
   ]
  },
  {
   "cell_type": "code",
   "execution_count": 18,
   "id": "15c75309",
   "metadata": {
    "execution": {
     "iopub.execute_input": "2025-06-16T16:55:12.990921Z",
     "iopub.status.busy": "2025-06-16T16:55:12.990500Z",
     "iopub.status.idle": "2025-06-16T16:55:13.013223Z",
     "shell.execute_reply": "2025-06-16T16:55:13.011741Z"
    },
    "papermill": {
     "duration": 0.041095,
     "end_time": "2025-06-16T16:55:13.017172",
     "exception": false,
     "start_time": "2025-06-16T16:55:12.976077",
     "status": "completed"
    },
    "tags": []
   },
   "outputs": [
    {
     "data": {
      "text/html": [
       "<style type=\"text/css\">\n",
       "#T_04380_row0_col0 {\n",
       "  background-color: #800026;\n",
       "  color: #f1f1f1;\n",
       "}\n",
       "#T_04380_row1_col0 {\n",
       "  background-color: #990026;\n",
       "  color: #f1f1f1;\n",
       "}\n",
       "#T_04380_row2_col0, #T_04380_row3_col0 {\n",
       "  background-color: #c70723;\n",
       "  color: #f1f1f1;\n",
       "}\n",
       "#T_04380_row4_col0 {\n",
       "  background-color: #c80723;\n",
       "  color: #f1f1f1;\n",
       "}\n",
       "#T_04380_row5_col0, #T_04380_row6_col0 {\n",
       "  background-color: #d9131f;\n",
       "  color: #f1f1f1;\n",
       "}\n",
       "#T_04380_row7_col0, #T_04380_row8_col0 {\n",
       "  background-color: #da141e;\n",
       "  color: #f1f1f1;\n",
       "}\n",
       "#T_04380_row9_col0 {\n",
       "  background-color: #fd7e38;\n",
       "  color: #f1f1f1;\n",
       "}\n",
       "#T_04380_row10_col0, #T_04380_row11_col0, #T_04380_row12_col0, #T_04380_row13_col0, #T_04380_row14_col0, #T_04380_row15_col0, #T_04380_row16_col0, #T_04380_row17_col0, #T_04380_row18_col0, #T_04380_row19_col0, #T_04380_row20_col0, #T_04380_row21_col0, #T_04380_row22_col0, #T_04380_row23_col0, #T_04380_row24_col0, #T_04380_row25_col0 {\n",
       "  background-color: #feb54f;\n",
       "  color: #000000;\n",
       "}\n",
       "#T_04380_row26_col0 {\n",
       "  background-color: #febd57;\n",
       "  color: #000000;\n",
       "}\n",
       "#T_04380_row27_col0, #T_04380_row28_col0, #T_04380_row29_col0 {\n",
       "  background-color: #febe59;\n",
       "  color: #000000;\n",
       "}\n",
       "#T_04380_row30_col0 {\n",
       "  background-color: #febf5a;\n",
       "  color: #000000;\n",
       "}\n",
       "#T_04380_row31_col0, #T_04380_row32_col0 {\n",
       "  background-color: #fec15d;\n",
       "  color: #000000;\n",
       "}\n",
       "#T_04380_row33_col0, #T_04380_row34_col0, #T_04380_row35_col0 {\n",
       "  background-color: #fec35e;\n",
       "  color: #000000;\n",
       "}\n",
       "#T_04380_row36_col0 {\n",
       "  background-color: #ffec9d;\n",
       "  color: #000000;\n",
       "}\n",
       "#T_04380_row37_col0, #T_04380_row38_col0 {\n",
       "  background-color: #fff4b2;\n",
       "  color: #000000;\n",
       "}\n",
       "#T_04380_row39_col0 {\n",
       "  background-color: #fff5b3;\n",
       "  color: #000000;\n",
       "}\n",
       "#T_04380_row40_col0, #T_04380_row41_col0, #T_04380_row42_col0 {\n",
       "  background-color: #fff7b9;\n",
       "  color: #000000;\n",
       "}\n",
       "#T_04380_row43_col0 {\n",
       "  background-color: #fff8ba;\n",
       "  color: #000000;\n",
       "}\n",
       "#T_04380_row44_col0 {\n",
       "  background-color: #fffac0;\n",
       "  color: #000000;\n",
       "}\n",
       "#T_04380_row45_col0 {\n",
       "  background-color: #ffffcc;\n",
       "  color: #000000;\n",
       "}\n",
       "</style>\n",
       "<table id=\"T_04380\">\n",
       "  <thead>\n",
       "    <tr>\n",
       "      <th class=\"blank level0\" >&nbsp;</th>\n",
       "      <th id=\"T_04380_level0_col0\" class=\"col_heading level0 col0\" >Missing</th>\n",
       "    </tr>\n",
       "  </thead>\n",
       "  <tbody>\n",
       "    <tr>\n",
       "      <th id=\"T_04380_level0_row0\" class=\"row_heading level0 row0\" >PAQ_A-PAQ_A_Total</th>\n",
       "      <td id=\"T_04380_row0_col0\" class=\"data row0 col0\" >2373</td>\n",
       "    </tr>\n",
       "    <tr>\n",
       "      <th id=\"T_04380_level0_row1\" class=\"row_heading level0 row1\" >Physical-Waist_Circumference</th>\n",
       "      <td id=\"T_04380_row1_col0\" class=\"data row1 col0\" >2253</td>\n",
       "    </tr>\n",
       "    <tr>\n",
       "      <th id=\"T_04380_level0_row2\" class=\"row_heading level0 row2\" >Fitness_Endurance-Time_Sec</th>\n",
       "      <td id=\"T_04380_row2_col0\" class=\"data row2 col0\" >2008</td>\n",
       "    </tr>\n",
       "    <tr>\n",
       "      <th id=\"T_04380_level0_row3\" class=\"row_heading level0 row3\" >Fitness_Endurance-Time_Mins</th>\n",
       "      <td id=\"T_04380_row3_col0\" class=\"data row3 col0\" >2008</td>\n",
       "    </tr>\n",
       "    <tr>\n",
       "      <th id=\"T_04380_level0_row4\" class=\"row_heading level0 row4\" >Fitness_Endurance-Max_Stage</th>\n",
       "      <td id=\"T_04380_row4_col0\" class=\"data row4 col0\" >2005</td>\n",
       "    </tr>\n",
       "    <tr>\n",
       "      <th id=\"T_04380_level0_row5\" class=\"row_heading level0 row5\" >FGC-FGC_GSD_Zone</th>\n",
       "      <td id=\"T_04380_row5_col0\" class=\"data row5 col0\" >1872</td>\n",
       "    </tr>\n",
       "    <tr>\n",
       "      <th id=\"T_04380_level0_row6\" class=\"row_heading level0 row6\" >FGC-FGC_GSND_Zone</th>\n",
       "      <td id=\"T_04380_row6_col0\" class=\"data row6 col0\" >1872</td>\n",
       "    </tr>\n",
       "    <tr>\n",
       "      <th id=\"T_04380_level0_row7\" class=\"row_heading level0 row7\" >FGC-FGC_GSD</th>\n",
       "      <td id=\"T_04380_row7_col0\" class=\"data row7 col0\" >1865</td>\n",
       "    </tr>\n",
       "    <tr>\n",
       "      <th id=\"T_04380_level0_row8\" class=\"row_heading level0 row8\" >FGC-FGC_GSND</th>\n",
       "      <td id=\"T_04380_row8_col0\" class=\"data row8 col0\" >1864</td>\n",
       "    </tr>\n",
       "    <tr>\n",
       "      <th id=\"T_04380_level0_row9\" class=\"row_heading level0 row9\" >PAQ_C-PAQ_C_Total</th>\n",
       "      <td id=\"T_04380_row9_col0\" class=\"data row9 col0\" >1296</td>\n",
       "    </tr>\n",
       "    <tr>\n",
       "      <th id=\"T_04380_level0_row10\" class=\"row_heading level0 row10\" >BIA-BIA_DEE</th>\n",
       "      <td id=\"T_04380_row10_col0\" class=\"data row10 col0\" >923</td>\n",
       "    </tr>\n",
       "    <tr>\n",
       "      <th id=\"T_04380_level0_row11\" class=\"row_heading level0 row11\" >BIA-BIA_BMI</th>\n",
       "      <td id=\"T_04380_row11_col0\" class=\"data row11 col0\" >923</td>\n",
       "    </tr>\n",
       "    <tr>\n",
       "      <th id=\"T_04380_level0_row12\" class=\"row_heading level0 row12\" >BIA-BIA_BMR</th>\n",
       "      <td id=\"T_04380_row12_col0\" class=\"data row12 col0\" >923</td>\n",
       "    </tr>\n",
       "    <tr>\n",
       "      <th id=\"T_04380_level0_row13\" class=\"row_heading level0 row13\" >BIA-BIA_BMC</th>\n",
       "      <td id=\"T_04380_row13_col0\" class=\"data row13 col0\" >923</td>\n",
       "    </tr>\n",
       "    <tr>\n",
       "      <th id=\"T_04380_level0_row14\" class=\"row_heading level0 row14\" >BIA-BIA_Activity_Level_num</th>\n",
       "      <td id=\"T_04380_row14_col0\" class=\"data row14 col0\" >923</td>\n",
       "    </tr>\n",
       "    <tr>\n",
       "      <th id=\"T_04380_level0_row15\" class=\"row_heading level0 row15\" >BIA-BIA_ECW</th>\n",
       "      <td id=\"T_04380_row15_col0\" class=\"data row15 col0\" >923</td>\n",
       "    </tr>\n",
       "    <tr>\n",
       "      <th id=\"T_04380_level0_row16\" class=\"row_heading level0 row16\" >BIA-BIA_SMM</th>\n",
       "      <td id=\"T_04380_row16_col0\" class=\"data row16 col0\" >923</td>\n",
       "    </tr>\n",
       "    <tr>\n",
       "      <th id=\"T_04380_level0_row17\" class=\"row_heading level0 row17\" >BIA-BIA_FFMI</th>\n",
       "      <td id=\"T_04380_row17_col0\" class=\"data row17 col0\" >923</td>\n",
       "    </tr>\n",
       "    <tr>\n",
       "      <th id=\"T_04380_level0_row18\" class=\"row_heading level0 row18\" >BIA-BIA_FMI</th>\n",
       "      <td id=\"T_04380_row18_col0\" class=\"data row18 col0\" >923</td>\n",
       "    </tr>\n",
       "    <tr>\n",
       "      <th id=\"T_04380_level0_row19\" class=\"row_heading level0 row19\" >BIA-BIA_TBW</th>\n",
       "      <td id=\"T_04380_row19_col0\" class=\"data row19 col0\" >923</td>\n",
       "    </tr>\n",
       "    <tr>\n",
       "      <th id=\"T_04380_level0_row20\" class=\"row_heading level0 row20\" >BIA-BIA_Fat</th>\n",
       "      <td id=\"T_04380_row20_col0\" class=\"data row20 col0\" >923</td>\n",
       "    </tr>\n",
       "    <tr>\n",
       "      <th id=\"T_04380_level0_row21\" class=\"row_heading level0 row21\" >BIA-BIA_Frame_num</th>\n",
       "      <td id=\"T_04380_row21_col0\" class=\"data row21 col0\" >923</td>\n",
       "    </tr>\n",
       "    <tr>\n",
       "      <th id=\"T_04380_level0_row22\" class=\"row_heading level0 row22\" >BIA-BIA_ICW</th>\n",
       "      <td id=\"T_04380_row22_col0\" class=\"data row22 col0\" >923</td>\n",
       "    </tr>\n",
       "    <tr>\n",
       "      <th id=\"T_04380_level0_row23\" class=\"row_heading level0 row23\" >BIA-BIA_LDM</th>\n",
       "      <td id=\"T_04380_row23_col0\" class=\"data row23 col0\" >923</td>\n",
       "    </tr>\n",
       "    <tr>\n",
       "      <th id=\"T_04380_level0_row24\" class=\"row_heading level0 row24\" >BIA-BIA_FFM</th>\n",
       "      <td id=\"T_04380_row24_col0\" class=\"data row24 col0\" >923</td>\n",
       "    </tr>\n",
       "    <tr>\n",
       "      <th id=\"T_04380_level0_row25\" class=\"row_heading level0 row25\" >BIA-BIA_LST</th>\n",
       "      <td id=\"T_04380_row25_col0\" class=\"data row25 col0\" >923</td>\n",
       "    </tr>\n",
       "    <tr>\n",
       "      <th id=\"T_04380_level0_row26\" class=\"row_heading level0 row26\" >FGC-FGC_PU_Zone</th>\n",
       "      <td id=\"T_04380_row26_col0\" class=\"data row26 col0\" >861</td>\n",
       "    </tr>\n",
       "    <tr>\n",
       "      <th id=\"T_04380_level0_row27\" class=\"row_heading level0 row27\" >FGC-FGC_SRL_Zone</th>\n",
       "      <td id=\"T_04380_row27_col0\" class=\"data row27 col0\" >859</td>\n",
       "    </tr>\n",
       "    <tr>\n",
       "      <th id=\"T_04380_level0_row28\" class=\"row_heading level0 row28\" >FGC-FGC_SRR_Zone</th>\n",
       "      <td id=\"T_04380_row28_col0\" class=\"data row28 col0\" >857</td>\n",
       "    </tr>\n",
       "    <tr>\n",
       "      <th id=\"T_04380_level0_row29\" class=\"row_heading level0 row29\" >FGC-FGC_CU_Zone</th>\n",
       "      <td id=\"T_04380_row29_col0\" class=\"data row29 col0\" >852</td>\n",
       "    </tr>\n",
       "    <tr>\n",
       "      <th id=\"T_04380_level0_row30\" class=\"row_heading level0 row30\" >FGC-FGC_TL_Zone</th>\n",
       "      <td id=\"T_04380_row30_col0\" class=\"data row30 col0\" >851</td>\n",
       "    </tr>\n",
       "    <tr>\n",
       "      <th id=\"T_04380_level0_row31\" class=\"row_heading level0 row31\" >FGC-FGC_PU</th>\n",
       "      <td id=\"T_04380_row31_col0\" class=\"data row31 col0\" >827</td>\n",
       "    </tr>\n",
       "    <tr>\n",
       "      <th id=\"T_04380_level0_row32\" class=\"row_heading level0 row32\" >FGC-FGC_SRL</th>\n",
       "      <td id=\"T_04380_row32_col0\" class=\"data row32 col0\" >825</td>\n",
       "    </tr>\n",
       "    <tr>\n",
       "      <th id=\"T_04380_level0_row33\" class=\"row_heading level0 row33\" >FGC-FGC_SRR</th>\n",
       "      <td id=\"T_04380_row33_col0\" class=\"data row33 col0\" >823</td>\n",
       "    </tr>\n",
       "    <tr>\n",
       "      <th id=\"T_04380_level0_row34\" class=\"row_heading level0 row34\" >FGC-FGC_TL</th>\n",
       "      <td id=\"T_04380_row34_col0\" class=\"data row34 col0\" >817</td>\n",
       "    </tr>\n",
       "    <tr>\n",
       "      <th id=\"T_04380_level0_row35\" class=\"row_heading level0 row35\" >FGC-FGC_CU</th>\n",
       "      <td id=\"T_04380_row35_col0\" class=\"data row35 col0\" >817</td>\n",
       "    </tr>\n",
       "    <tr>\n",
       "      <th id=\"T_04380_level0_row36\" class=\"row_heading level0 row36\" >CGAS-CGAS_Score</th>\n",
       "      <td id=\"T_04380_row36_col0\" class=\"data row36 col0\" >394</td>\n",
       "    </tr>\n",
       "    <tr>\n",
       "      <th id=\"T_04380_level0_row37\" class=\"row_heading level0 row37\" >Physical-Systolic_BP</th>\n",
       "      <td id=\"T_04380_row37_col0\" class=\"data row37 col0\" >258</td>\n",
       "    </tr>\n",
       "    <tr>\n",
       "      <th id=\"T_04380_level0_row38\" class=\"row_heading level0 row38\" >Physical-Diastolic_BP</th>\n",
       "      <td id=\"T_04380_row38_col0\" class=\"data row38 col0\" >258</td>\n",
       "    </tr>\n",
       "    <tr>\n",
       "      <th id=\"T_04380_level0_row39\" class=\"row_heading level0 row39\" >Physical-HeartRate</th>\n",
       "      <td id=\"T_04380_row39_col0\" class=\"data row39 col0\" >250</td>\n",
       "    </tr>\n",
       "    <tr>\n",
       "      <th id=\"T_04380_level0_row40\" class=\"row_heading level0 row40\" >SDS-SDS_Total_T</th>\n",
       "      <td id=\"T_04380_row40_col0\" class=\"data row40 col0\" >211</td>\n",
       "    </tr>\n",
       "    <tr>\n",
       "      <th id=\"T_04380_level0_row41\" class=\"row_heading level0 row41\" >SDS-SDS_Total_Raw</th>\n",
       "      <td id=\"T_04380_row41_col0\" class=\"data row41 col0\" >209</td>\n",
       "    </tr>\n",
       "    <tr>\n",
       "      <th id=\"T_04380_level0_row42\" class=\"row_heading level0 row42\" >Physical-BMI</th>\n",
       "      <td id=\"T_04380_row42_col0\" class=\"data row42 col0\" >209</td>\n",
       "    </tr>\n",
       "    <tr>\n",
       "      <th id=\"T_04380_level0_row43\" class=\"row_heading level0 row43\" >Physical-Height</th>\n",
       "      <td id=\"T_04380_row43_col0\" class=\"data row43 col0\" >206</td>\n",
       "    </tr>\n",
       "    <tr>\n",
       "      <th id=\"T_04380_level0_row44\" class=\"row_heading level0 row44\" >Physical-Weight</th>\n",
       "      <td id=\"T_04380_row44_col0\" class=\"data row44 col0\" >164</td>\n",
       "    </tr>\n",
       "    <tr>\n",
       "      <th id=\"T_04380_level0_row45\" class=\"row_heading level0 row45\" >PreInt_EduHx-computerinternet_hoursday</th>\n",
       "      <td id=\"T_04380_row45_col0\" class=\"data row45 col0\" >82</td>\n",
       "    </tr>\n",
       "  </tbody>\n",
       "</table>\n"
      ],
      "text/plain": [
       "<pandas.io.formats.style.Styler at 0x7d7394a27d00>"
      ]
     },
     "execution_count": 18,
     "metadata": {},
     "output_type": "execute_result"
    }
   ],
   "source": [
    "null = train.isna().sum().sort_values(ascending = False).head(46)\n",
    "null = pd.DataFrame(null)\n",
    "null = null.rename(columns= {0:'Missing'})\n",
    "null.style.background_gradient(cmap='YlOrRd')"
   ]
  },
  {
   "cell_type": "code",
   "execution_count": 19,
   "id": "17c172b2",
   "metadata": {
    "execution": {
     "iopub.execute_input": "2025-06-16T16:55:13.049041Z",
     "iopub.status.busy": "2025-06-16T16:55:13.048594Z",
     "iopub.status.idle": "2025-06-16T16:55:13.059092Z",
     "shell.execute_reply": "2025-06-16T16:55:13.058075Z"
    },
    "papermill": {
     "duration": 0.027739,
     "end_time": "2025-06-16T16:55:13.061448",
     "exception": false,
     "start_time": "2025-06-16T16:55:13.033709",
     "status": "completed"
    },
    "tags": []
   },
   "outputs": [
    {
     "data": {
      "text/plain": [
       "['Physical-Waist_Circumference',\n",
       " 'Fitness_Endurance-Max_Stage',\n",
       " 'Fitness_Endurance-Time_Mins',\n",
       " 'Fitness_Endurance-Time_Sec',\n",
       " 'FGC-FGC_GSND',\n",
       " 'FGC-FGC_GSND_Zone',\n",
       " 'FGC-FGC_GSD',\n",
       " 'FGC-FGC_GSD_Zone',\n",
       " 'PAQ_A-PAQ_A_Total']"
      ]
     },
     "execution_count": 19,
     "metadata": {},
     "output_type": "execute_result"
    }
   ],
   "source": [
    "half_missing = [val for val in train.columns[train.isnull().sum()>len(train)/2]]\n",
    "half_missing"
   ]
  },
  {
   "cell_type": "code",
   "execution_count": 20,
   "id": "a76ca953",
   "metadata": {
    "execution": {
     "iopub.execute_input": "2025-06-16T16:55:13.089595Z",
     "iopub.status.busy": "2025-06-16T16:55:13.089174Z",
     "iopub.status.idle": "2025-06-16T16:55:13.094484Z",
     "shell.execute_reply": "2025-06-16T16:55:13.093337Z"
    },
    "papermill": {
     "duration": 0.021839,
     "end_time": "2025-06-16T16:55:13.096829",
     "exception": false,
     "start_time": "2025-06-16T16:55:13.074990",
     "status": "completed"
    },
    "tags": []
   },
   "outputs": [],
   "source": [
    "selection = [i for i in selection if i not in half_missing]"
   ]
  },
  {
   "cell_type": "markdown",
   "id": "87056b2d",
   "metadata": {
    "papermill": {
     "duration": 0.012388,
     "end_time": "2025-06-16T16:55:13.122080",
     "exception": false,
     "start_time": "2025-06-16T16:55:13.109692",
     "status": "completed"
    },
    "tags": []
   },
   "source": [
    "**8. Selected Features**# "
   ]
  },
  {
   "cell_type": "markdown",
   "id": "33a120f9",
   "metadata": {
    "papermill": {
     "duration": 0.013396,
     "end_time": "2025-06-16T16:55:13.148353",
     "exception": false,
     "start_time": "2025-06-16T16:55:13.134957",
     "status": "completed"
    },
    "tags": []
   },
   "source": [
    "* We now have 16 selected features based on a) correlation with the target and b) relatively few missing values.\n",
    "* The idea is to create a robust model that focuses on key signals in the data and reduces some of the excess noise from large numbers of features.\n",
    "* Some of the min and max values appear to be impossible (such as a minimum weight of zero) or very unlikely."
   ]
  },
  {
   "cell_type": "code",
   "execution_count": 21,
   "id": "4b6c0ccc",
   "metadata": {
    "execution": {
     "iopub.execute_input": "2025-06-16T16:55:13.176030Z",
     "iopub.status.busy": "2025-06-16T16:55:13.175591Z",
     "iopub.status.idle": "2025-06-16T16:55:13.226787Z",
     "shell.execute_reply": "2025-06-16T16:55:13.225547Z"
    },
    "papermill": {
     "duration": 0.067771,
     "end_time": "2025-06-16T16:55:13.229277",
     "exception": false,
     "start_time": "2025-06-16T16:55:13.161506",
     "status": "completed"
    },
    "tags": []
   },
   "outputs": [
    {
     "data": {
      "text/html": [
       "<style type=\"text/css\">\n",
       "#T_9c2a4_row0_col0, #T_9c2a4_row4_col0, #T_9c2a4_row5_col0, #T_9c2a4_row6_col0, #T_9c2a4_row6_col1, #T_9c2a4_row7_col0, #T_9c2a4_row7_col1, #T_9c2a4_row8_col0, #T_9c2a4_row9_col0, #T_9c2a4_row10_col0, #T_9c2a4_row13_col0, #T_9c2a4_row14_col0 {\n",
       "  background-color: #ffffcc;\n",
       "  color: #000000;\n",
       "}\n",
       "#T_9c2a4_row0_col1 {\n",
       "  background-color: #ffe998;\n",
       "  color: #000000;\n",
       "}\n",
       "#T_9c2a4_row1_col0 {\n",
       "  background-color: #ffe794;\n",
       "  color: #000000;\n",
       "}\n",
       "#T_9c2a4_row1_col1 {\n",
       "  background-color: #ef3323;\n",
       "  color: #f1f1f1;\n",
       "}\n",
       "#T_9c2a4_row2_col0 {\n",
       "  background-color: #fffcc5;\n",
       "  color: #000000;\n",
       "}\n",
       "#T_9c2a4_row2_col1, #T_9c2a4_row14_col1 {\n",
       "  background-color: #fffecb;\n",
       "  color: #000000;\n",
       "}\n",
       "#T_9c2a4_row3_col0 {\n",
       "  background-color: #fff0a8;\n",
       "  color: #000000;\n",
       "}\n",
       "#T_9c2a4_row3_col1 {\n",
       "  background-color: #fff5b5;\n",
       "  color: #000000;\n",
       "}\n",
       "#T_9c2a4_row4_col1 {\n",
       "  background-color: #feb651;\n",
       "  color: #000000;\n",
       "}\n",
       "#T_9c2a4_row5_col1 {\n",
       "  background-color: #ffe895;\n",
       "  color: #000000;\n",
       "}\n",
       "#T_9c2a4_row8_col1 {\n",
       "  background-color: #fff6b6;\n",
       "  color: #000000;\n",
       "}\n",
       "#T_9c2a4_row9_col1, #T_9c2a4_row10_col1 {\n",
       "  background-color: #fffec9;\n",
       "  color: #000000;\n",
       "}\n",
       "#T_9c2a4_row11_col0 {\n",
       "  background-color: #e61f1d;\n",
       "  color: #f1f1f1;\n",
       "}\n",
       "#T_9c2a4_row11_col1 {\n",
       "  background-color: #fed977;\n",
       "  color: #000000;\n",
       "}\n",
       "#T_9c2a4_row12_col0, #T_9c2a4_row13_col1 {\n",
       "  background-color: #800026;\n",
       "  color: #f1f1f1;\n",
       "}\n",
       "#T_9c2a4_row12_col1 {\n",
       "  background-color: #f84628;\n",
       "  color: #f1f1f1;\n",
       "}\n",
       "#T_9c2a4_row15_col0 {\n",
       "  background-color: #db141e;\n",
       "  color: #f1f1f1;\n",
       "}\n",
       "#T_9c2a4_row15_col1 {\n",
       "  background-color: #fec561;\n",
       "  color: #000000;\n",
       "}\n",
       "</style>\n",
       "<table id=\"T_9c2a4\">\n",
       "  <thead>\n",
       "    <tr>\n",
       "      <th class=\"blank level0\" >&nbsp;</th>\n",
       "      <th id=\"T_9c2a4_level0_col0\" class=\"col_heading level0 col0\" >min</th>\n",
       "      <th id=\"T_9c2a4_level0_col1\" class=\"col_heading level0 col1\" >max</th>\n",
       "    </tr>\n",
       "  </thead>\n",
       "  <tbody>\n",
       "    <tr>\n",
       "      <th id=\"T_9c2a4_level0_row0\" class=\"row_heading level0 row0\" >BIA-BIA_BMI</th>\n",
       "      <td id=\"T_9c2a4_row0_col0\" class=\"data row0 col0\" >0.048267</td>\n",
       "      <td id=\"T_9c2a4_row0_col1\" class=\"data row0 col1\" >48.375400</td>\n",
       "    </tr>\n",
       "    <tr>\n",
       "      <th id=\"T_9c2a4_level0_row1\" class=\"row_heading level0 row1\" >BIA-BIA_FFMI</th>\n",
       "      <td id=\"T_9c2a4_row1_col0\" class=\"data row1 col0\" >7.864850</td>\n",
       "      <td id=\"T_9c2a4_row1_col1\" class=\"data row1 col1\" >217.771000</td>\n",
       "    </tr>\n",
       "    <tr>\n",
       "      <th id=\"T_9c2a4_level0_row2\" class=\"row_heading level0 row2\" >BIA-BIA_Frame_num</th>\n",
       "      <td id=\"T_9c2a4_row2_col0\" class=\"data row2 col0\" >1.000000</td>\n",
       "      <td id=\"T_9c2a4_row2_col1\" class=\"data row2 col1\" >3.000000</td>\n",
       "    </tr>\n",
       "    <tr>\n",
       "      <th id=\"T_9c2a4_level0_row3\" class=\"row_heading level0 row3\" >Basic_Demos-Age</th>\n",
       "      <td id=\"T_9c2a4_row3_col0\" class=\"data row3 col0\" >5.000000</td>\n",
       "      <td id=\"T_9c2a4_row3_col1\" class=\"data row3 col1\" >22.000000</td>\n",
       "    </tr>\n",
       "    <tr>\n",
       "      <th id=\"T_9c2a4_level0_row4\" class=\"row_heading level0 row4\" >FGC-FGC_CU</th>\n",
       "      <td id=\"T_9c2a4_row4_col0\" class=\"data row4 col0\" >0.000000</td>\n",
       "      <td id=\"T_9c2a4_row4_col1\" class=\"data row4 col1\" >115.000000</td>\n",
       "    </tr>\n",
       "    <tr>\n",
       "      <th id=\"T_9c2a4_level0_row5\" class=\"row_heading level0 row5\" >FGC-FGC_PU</th>\n",
       "      <td id=\"T_9c2a4_row5_col0\" class=\"data row5 col0\" >0.000000</td>\n",
       "      <td id=\"T_9c2a4_row5_col1\" class=\"data row5 col1\" >51.000000</td>\n",
       "    </tr>\n",
       "    <tr>\n",
       "      <th id=\"T_9c2a4_level0_row6\" class=\"row_heading level0 row6\" >FGC-FGC_SRL_Zone</th>\n",
       "      <td id=\"T_9c2a4_row6_col0\" class=\"data row6 col0\" >0.000000</td>\n",
       "      <td id=\"T_9c2a4_row6_col1\" class=\"data row6 col1\" >1.000000</td>\n",
       "    </tr>\n",
       "    <tr>\n",
       "      <th id=\"T_9c2a4_level0_row7\" class=\"row_heading level0 row7\" >FGC-FGC_SRR_Zone</th>\n",
       "      <td id=\"T_9c2a4_row7_col0\" class=\"data row7 col0\" >0.000000</td>\n",
       "      <td id=\"T_9c2a4_row7_col1\" class=\"data row7 col1\" >1.000000</td>\n",
       "    </tr>\n",
       "    <tr>\n",
       "      <th id=\"T_9c2a4_level0_row8\" class=\"row_heading level0 row8\" >FGC-FGC_TL</th>\n",
       "      <td id=\"T_9c2a4_row8_col0\" class=\"data row8 col0\" >0.000000</td>\n",
       "      <td id=\"T_9c2a4_row8_col1\" class=\"data row8 col1\" >21.000000</td>\n",
       "    </tr>\n",
       "    <tr>\n",
       "      <th id=\"T_9c2a4_level0_row9\" class=\"row_heading level0 row9\" >PAQ_A-Season</th>\n",
       "      <td id=\"T_9c2a4_row9_col0\" class=\"data row9 col0\" >0.000000</td>\n",
       "      <td id=\"T_9c2a4_row9_col1\" class=\"data row9 col1\" >4.000000</td>\n",
       "    </tr>\n",
       "    <tr>\n",
       "      <th id=\"T_9c2a4_level0_row10\" class=\"row_heading level0 row10\" >PAQ_C-Season</th>\n",
       "      <td id=\"T_9c2a4_row10_col0\" class=\"data row10 col0\" >0.000000</td>\n",
       "      <td id=\"T_9c2a4_row10_col1\" class=\"data row10 col1\" >4.000000</td>\n",
       "    </tr>\n",
       "    <tr>\n",
       "      <th id=\"T_9c2a4_level0_row11\" class=\"row_heading level0 row11\" >Physical-Height</th>\n",
       "      <td id=\"T_9c2a4_row11_col0\" class=\"data row11 col0\" >36.000000</td>\n",
       "      <td id=\"T_9c2a4_row11_col1\" class=\"data row11 col1\" >78.500000</td>\n",
       "    </tr>\n",
       "    <tr>\n",
       "      <th id=\"T_9c2a4_level0_row12\" class=\"row_heading level0 row12\" >Physical-Systolic_BP</th>\n",
       "      <td id=\"T_9c2a4_row12_col0\" class=\"data row12 col0\" >49.000000</td>\n",
       "      <td id=\"T_9c2a4_row12_col1\" class=\"data row12 col1\" >203.000000</td>\n",
       "    </tr>\n",
       "    <tr>\n",
       "      <th id=\"T_9c2a4_level0_row13\" class=\"row_heading level0 row13\" >Physical-Weight</th>\n",
       "      <td id=\"T_9c2a4_row13_col0\" class=\"data row13 col0\" >0.000000</td>\n",
       "      <td id=\"T_9c2a4_row13_col1\" class=\"data row13 col1\" >315.000000</td>\n",
       "    </tr>\n",
       "    <tr>\n",
       "      <th id=\"T_9c2a4_level0_row14\" class=\"row_heading level0 row14\" >PreInt_EduHx-computerinternet_hoursday</th>\n",
       "      <td id=\"T_9c2a4_row14_col0\" class=\"data row14 col0\" >0.000000</td>\n",
       "      <td id=\"T_9c2a4_row14_col1\" class=\"data row14 col1\" >3.000000</td>\n",
       "    </tr>\n",
       "    <tr>\n",
       "      <th id=\"T_9c2a4_level0_row15\" class=\"row_heading level0 row15\" >SDS-SDS_Total_T</th>\n",
       "      <td id=\"T_9c2a4_row15_col0\" class=\"data row15 col0\" >38.000000</td>\n",
       "      <td id=\"T_9c2a4_row15_col1\" class=\"data row15 col1\" >100.000000</td>\n",
       "    </tr>\n",
       "  </tbody>\n",
       "</table>\n"
      ],
      "text/plain": [
       "<pandas.io.formats.style.Styler at 0x7d7393d97a00>"
      ]
     },
     "execution_count": 21,
     "metadata": {},
     "output_type": "execute_result"
    }
   ],
   "source": [
    "describe = train[selection].describe().T\n",
    "describe = describe[['min','max']].sort_index()\n",
    "describe.style.background_gradient(cmap='YlOrRd')"
   ]
  },
  {
   "cell_type": "code",
   "execution_count": 22,
   "id": "0c2e6f8d",
   "metadata": {
    "execution": {
     "iopub.execute_input": "2025-06-16T16:55:13.258214Z",
     "iopub.status.busy": "2025-06-16T16:55:13.257714Z",
     "iopub.status.idle": "2025-06-16T16:55:17.839964Z",
     "shell.execute_reply": "2025-06-16T16:55:17.838688Z"
    },
    "papermill": {
     "duration": 4.600961,
     "end_time": "2025-06-16T16:55:17.843358",
     "exception": false,
     "start_time": "2025-06-16T16:55:13.242397",
     "status": "completed"
    },
    "tags": []
   },
   "outputs": [
    {
     "data": {
      "image/png": "[encoded data removed]",
      "text/plain": [
       "<Figure size 1000x1000 with 16 Axes>"
      ]
     },
     "metadata": {},
     "output_type": "display_data"
    }
   ],
   "source": [
    "train[selection].hist(figsize=(10,10), grid = True, color = 'green')\n",
    "plt.tight_layout()"
   ]
  },
  {
   "cell_type": "markdown",
   "id": "026917a0",
   "metadata": {
    "papermill": {
     "duration": 0.014754,
     "end_time": "2025-06-16T16:55:17.873170",
     "exception": false,
     "start_time": "2025-06-16T16:55:17.858416",
     "status": "completed"
    },
    "tags": []
   },
   "source": [
    "**9. Regression Model**# "
   ]
  },
  {
   "cell_type": "markdown",
   "id": "e969acb9",
   "metadata": {
    "papermill": {
     "duration": 0.015117,
     "end_time": "2025-06-16T16:55:17.904212",
     "exception": false,
     "start_time": "2025-06-16T16:55:17.889095",
     "status": "completed"
    },
    "tags": []
   },
   "source": [
    "* In this section I train an XGBoost regression model as a benchmark and use PCIAT-PCIAT_Total as the target.\n",
    "* We tweak the quadratic kappa function to convert PCIAT total scores to sii categories, which gives a better cross-validation result.\n",
    "* The model was tuned offline using Optuna to get the hyperparameters.\n",
    "* I found that adding a scaling factor of 1.25 to the scores gives a better overall QWK score.\n",
    "* The effect of this is to reduce the score thresholds from 30, 50, 80 to 24, 40, 64. It's quite possible there are even better values to be found.\n",
    "* The final CV score is **.458**."
   ]
  },
  {
   "cell_type": "code",
   "execution_count": 23,
   "id": "07687692",
   "metadata": {
    "execution": {
     "iopub.execute_input": "2025-06-16T16:55:17.935503Z",
     "iopub.status.busy": "2025-06-16T16:55:17.935117Z",
     "iopub.status.idle": "2025-06-16T16:55:17.942782Z",
     "shell.execute_reply": "2025-06-16T16:55:17.941716Z"
    },
    "papermill": {
     "duration": 0.026076,
     "end_time": "2025-06-16T16:55:17.944982",
     "exception": false,
     "start_time": "2025-06-16T16:55:17.918906",
     "status": "completed"
    },
    "tags": []
   },
   "outputs": [],
   "source": [
    "X = train[selection]\n",
    "test = test[selection]\n",
    "y = train['PCIAT-PCIAT_Total']"
   ]
  },
  {
   "cell_type": "code",
   "execution_count": 24,
   "id": "95f84532",
   "metadata": {
    "execution": {
     "iopub.execute_input": "2025-06-16T16:55:17.977197Z",
     "iopub.status.busy": "2025-06-16T16:55:17.976356Z",
     "iopub.status.idle": "2025-06-16T16:55:17.983045Z",
     "shell.execute_reply": "2025-06-16T16:55:17.981640Z"
    },
    "papermill": {
     "duration": 0.025487,
     "end_time": "2025-06-16T16:55:17.985307",
     "exception": false,
     "start_time": "2025-06-16T16:55:17.959820",
     "status": "completed"
    },
    "tags": []
   },
   "outputs": [],
   "source": [
    "def convert(scores):\n",
    "    scores = np.array(scores)*1.5\n",
    "    bins = np.zeros_like(scores)\n",
    "    bins[scores <= 30] = 0\n",
    "    bins[(scores > 30) & (scores < 50)] = 1\n",
    "    bins[(scores >= 50) & (scores < 80)] = 2\n",
    "    bins[scores >= 80] = 3\n",
    "    return bins"
   ]
  },
  {
   "cell_type": "code",
   "execution_count": 25,
   "id": "f2ebc888",
   "metadata": {
    "execution": {
     "iopub.execute_input": "2025-06-16T16:55:18.018678Z",
     "iopub.status.busy": "2025-06-16T16:55:18.018261Z",
     "iopub.status.idle": "2025-06-16T16:55:18.024222Z",
     "shell.execute_reply": "2025-06-16T16:55:18.022907Z"
    },
    "papermill": {
     "duration": 0.024879,
     "end_time": "2025-06-16T16:55:18.026591",
     "exception": false,
     "start_time": "2025-06-16T16:55:18.001712",
     "status": "completed"
    },
    "tags": []
   },
   "outputs": [],
   "source": [
    "def quadratic_kappa(y_true, y_pred):\n",
    "    y_true_cat = convert(y_true)\n",
    "    y_pred_cat = convert(y_pred)\n",
    "    return cohen_kappa_score(y_true_cat, y_pred_cat, weights='quadratic')\n",
    "\n",
    "kappa_scorer = make_scorer(quadratic_kappa, greater_is_better=True)"
   ]
  },
  {
   "cell_type": "code",
   "execution_count": 26,
   "id": "1d1ab877",
   "metadata": {
    "execution": {
     "iopub.execute_input": "2025-06-16T16:55:18.058712Z",
     "iopub.status.busy": "2025-06-16T16:55:18.058279Z",
     "iopub.status.idle": "2025-06-16T16:56:30.196862Z",
     "shell.execute_reply": "2025-06-16T16:56:30.195860Z"
    },
    "papermill": {
     "duration": 72.15778,
     "end_time": "2025-06-16T16:56:30.199351",
     "exception": false,
     "start_time": "2025-06-16T16:55:18.041571",
     "status": "completed"
    },
    "tags": []
   },
   "outputs": [
    {
     "name": "stderr",
     "output_type": "stream",
     "text": [
      "[I 2025-06-16 16:55:18,062] A new study created in memory with name: no-name-97a89884-0b28-463b-94c9-eec8314e7dec\n",
      "[I 2025-06-16 16:55:22,730] Trial 0 finished with value: 0.40538941003340706 and parameters: {'max_depth': 10, 'n_estimators': 112, 'learning_rate': 0.0235325507750766, 'subsample': 0.9129305594394799, 'colsample_bytree': 0.7760391278610613}. Best is trial 0 with value: 0.40538941003340706.\n",
      "[I 2025-06-16 16:55:24,409] Trial 1 finished with value: 0.42263325569304405 and parameters: {'max_depth': 8, 'n_estimators': 83, 'learning_rate': 0.08445843212480339, 'subsample': 0.7878045720929352, 'colsample_bytree': 0.8500397760320417}. Best is trial 1 with value: 0.42263325569304405.\n",
      "[I 2025-06-16 16:55:26,777] Trial 2 finished with value: 0.3950059616829023 and parameters: {'max_depth': 9, 'n_estimators': 108, 'learning_rate': 0.08493862019324917, 'subsample': 0.6983615893446707, 'colsample_bytree': 0.731560941451512}. Best is trial 1 with value: 0.42263325569304405.\n",
      "[I 2025-06-16 16:55:27,973] Trial 3 finished with value: 0.3697015927372843 and parameters: {'max_depth': 6, 'n_estimators': 99, 'learning_rate': 0.01021424139284012, 'subsample': 0.9383855176413709, 'colsample_bytree': 0.8247863325176321}. Best is trial 1 with value: 0.42263325569304405.\n",
      "[I 2025-06-16 16:55:33,681] Trial 4 finished with value: 0.4049608895887781 and parameters: {'max_depth': 10, 'n_estimators': 132, 'learning_rate': 0.019347014733608798, 'subsample': 0.8621966819728184, 'colsample_bytree': 0.8261053766618288}. Best is trial 1 with value: 0.42263325569304405.\n",
      "[I 2025-06-16 16:55:35,453] Trial 5 finished with value: 0.4197013205796137 and parameters: {'max_depth': 8, 'n_estimators': 90, 'learning_rate': 0.02495238927523262, 'subsample': 0.6017447324597569, 'colsample_bytree': 0.7864797103309826}. Best is trial 1 with value: 0.42263325569304405.\n",
      "[I 2025-06-16 16:55:36,310] Trial 6 finished with value: 0.45336030217742873 and parameters: {'max_depth': 4, 'n_estimators': 157, 'learning_rate': 0.02891700640580168, 'subsample': 0.6111001771347575, 'colsample_bytree': 0.9849344898361129}. Best is trial 6 with value: 0.45336030217742873.\n",
      "[I 2025-06-16 16:55:36,771] Trial 7 finished with value: 0.45501097011598085 and parameters: {'max_depth': 3, 'n_estimators': 115, 'learning_rate': 0.03633886698652352, 'subsample': 0.7101697897239365, 'colsample_bytree': 0.7893596725161743}. Best is trial 7 with value: 0.45501097011598085.\n",
      "[I 2025-06-16 16:55:37,403] Trial 8 finished with value: 0.4507077616661893 and parameters: {'max_depth': 3, 'n_estimators': 160, 'learning_rate': 0.08872518569074252, 'subsample': 0.8808057687420792, 'colsample_bytree': 0.9164527848070331}. Best is trial 7 with value: 0.45501097011598085.\n",
      "[I 2025-06-16 16:55:43,155] Trial 9 finished with value: 0.413497926983392 and parameters: {'max_depth': 9, 'n_estimators': 182, 'learning_rate': 0.06541920156066737, 'subsample': 0.6490935796418813, 'colsample_bytree': 0.774120419687704}. Best is trial 7 with value: 0.45501097011598085.\n",
      "[I 2025-06-16 16:55:43,611] Trial 10 finished with value: 0.44225257663499384 and parameters: {'max_depth': 5, 'n_estimators': 50, 'learning_rate': 0.045794209493575044, 'subsample': 0.5048244698511959, 'colsample_bytree': 0.7099236731227156}. Best is trial 7 with value: 0.45501097011598085.\n",
      "[I 2025-06-16 16:55:44,287] Trial 11 finished with value: 0.4584698221464403 and parameters: {'max_depth': 3, 'n_estimators': 146, 'learning_rate': 0.04378565079029677, 'subsample': 0.5585023195067671, 'colsample_bytree': 0.9976521221377368}. Best is trial 11 with value: 0.4584698221464403.\n",
      "[I 2025-06-16 16:55:44,934] Trial 12 finished with value: 0.4577530683290922 and parameters: {'max_depth': 3, 'n_estimators': 143, 'learning_rate': 0.04654074586309073, 'subsample': 0.5128077107370473, 'colsample_bytree': 0.9914670319089336}. Best is trial 11 with value: 0.4584698221464403.\n",
      "[I 2025-06-16 16:55:46,009] Trial 13 finished with value: 0.44735977274803795 and parameters: {'max_depth': 5, 'n_estimators': 139, 'learning_rate': 0.06633035484475201, 'subsample': 0.5065336151597998, 'colsample_bytree': 0.9987690122878156}. Best is trial 11 with value: 0.4584698221464403.\n",
      "[I 2025-06-16 16:55:47,046] Trial 14 finished with value: 0.44776960604291727 and parameters: {'max_depth': 4, 'n_estimators': 189, 'learning_rate': 0.052339648990763724, 'subsample': 0.5707868543617678, 'colsample_bytree': 0.9444897633518047}. Best is trial 11 with value: 0.4584698221464403.\n",
      "[I 2025-06-16 16:55:47,728] Trial 15 finished with value: 0.4603033116299494 and parameters: {'max_depth': 3, 'n_estimators': 159, 'learning_rate': 0.04208947494160651, 'subsample': 0.5441157262404563, 'colsample_bytree': 0.9160795258014878}. Best is trial 15 with value: 0.4603033116299494.\n",
      "[I 2025-06-16 16:55:49,437] Trial 16 finished with value: 0.4274484595174612 and parameters: {'max_depth': 6, 'n_estimators': 168, 'learning_rate': 0.06026842943343688, 'subsample': 0.7875554161295002, 'colsample_bytree': 0.9017226967796039}. Best is trial 15 with value: 0.4603033116299494.\n",
      "[I 2025-06-16 16:55:50,941] Trial 17 finished with value: 0.4520061456045562 and parameters: {'max_depth': 5, 'n_estimators': 198, 'learning_rate': 0.03801920865207924, 'subsample': 0.5674242106879953, 'colsample_bytree': 0.9499902458048675}. Best is trial 15 with value: 0.4603033116299494.\n",
      "[I 2025-06-16 16:55:51,859] Trial 18 finished with value: 0.42940683745433955 and parameters: {'max_depth': 4, 'n_estimators': 171, 'learning_rate': 0.09947826491352271, 'subsample': 0.9912808542145941, 'colsample_bytree': 0.8837105333852661}. Best is trial 15 with value: 0.4603033116299494.\n",
      "[I 2025-06-16 16:55:54,226] Trial 19 finished with value: 0.4107693519821531 and parameters: {'max_depth': 7, 'n_estimators': 148, 'learning_rate': 0.07355239980575254, 'subsample': 0.6679164237042234, 'colsample_bytree': 0.9655741819937002}. Best is trial 15 with value: 0.4603033116299494.\n",
      "[I 2025-06-16 16:55:54,970] Trial 20 finished with value: 0.45168982973637917 and parameters: {'max_depth': 4, 'n_estimators': 128, 'learning_rate': 0.04073704591475019, 'subsample': 0.5592772908601444, 'colsample_bytree': 0.9255757811199239}. Best is trial 15 with value: 0.4603033116299494.\n",
      "[I 2025-06-16 16:55:55,600] Trial 21 finished with value: 0.4628306839560377 and parameters: {'max_depth': 3, 'n_estimators': 145, 'learning_rate': 0.052593257434806605, 'subsample': 0.536947967587516, 'colsample_bytree': 0.9706102524335309}. Best is trial 21 with value: 0.4628306839560377.\n",
      "[I 2025-06-16 16:55:56,251] Trial 22 finished with value: 0.4632772314911495 and parameters: {'max_depth': 3, 'n_estimators': 153, 'learning_rate': 0.053965625411519585, 'subsample': 0.626326538147163, 'colsample_bytree': 0.9663432992931075}. Best is trial 22 with value: 0.4632772314911495.\n",
      "[I 2025-06-16 16:55:56,979] Trial 23 finished with value: 0.4596401581296609 and parameters: {'max_depth': 3, 'n_estimators': 176, 'learning_rate': 0.05093284850621905, 'subsample': 0.6465400016502555, 'colsample_bytree': 0.8898037878215993}. Best is trial 22 with value: 0.4632772314911495.\n",
      "[I 2025-06-16 16:55:57,847] Trial 24 finished with value: 0.44570597117258615 and parameters: {'max_depth': 4, 'n_estimators': 157, 'learning_rate': 0.057648361048561726, 'subsample': 0.6113849680108129, 'colsample_bytree': 0.9653923016314984}. Best is trial 22 with value: 0.4632772314911495.\n",
      "[I 2025-06-16 16:55:58,798] Trial 25 finished with value: 0.44009018916059517 and parameters: {'max_depth': 5, 'n_estimators': 124, 'learning_rate': 0.07069428313567405, 'subsample': 0.5349694603179503, 'colsample_bytree': 0.9357177669858845}. Best is trial 22 with value: 0.4632772314911495.\n",
      "[I 2025-06-16 16:55:59,473] Trial 26 finished with value: 0.45926614657714493 and parameters: {'max_depth': 3, 'n_estimators': 164, 'learning_rate': 0.03284480388032573, 'subsample': 0.6072402309644076, 'colsample_bytree': 0.8688519340409812}. Best is trial 22 with value: 0.4632772314911495.\n",
      "[I 2025-06-16 16:56:00,535] Trial 27 finished with value: 0.4481850257651959 and parameters: {'max_depth': 4, 'n_estimators': 188, 'learning_rate': 0.057409389626660944, 'subsample': 0.7441792720790337, 'colsample_bytree': 0.966496096743418}. Best is trial 22 with value: 0.4632772314911495.\n",
      "[I 2025-06-16 16:56:02,146] Trial 28 finished with value: 0.4314013805064336 and parameters: {'max_depth': 6, 'n_estimators': 153, 'learning_rate': 0.04967290742356577, 'subsample': 0.5384930871071941, 'colsample_bytree': 0.9050666283118983}. Best is trial 22 with value: 0.4632772314911495.\n",
      "[I 2025-06-16 16:56:02,868] Trial 29 finished with value: 0.4610679424404801 and parameters: {'max_depth': 3, 'n_estimators': 136, 'learning_rate': 0.06258835079238237, 'subsample': 0.680321292368517, 'colsample_bytree': 0.954206253528724}. Best is trial 22 with value: 0.4632772314911495.\n",
      "[I 2025-06-16 16:56:03,926] Trial 30 finished with value: 0.4410032160729572 and parameters: {'max_depth': 5, 'n_estimators': 136, 'learning_rate': 0.07672441762633146, 'subsample': 0.6951215319447841, 'colsample_bytree': 0.9701503944739716}. Best is trial 22 with value: 0.4632772314911495.\n",
      "[I 2025-06-16 16:56:04,466] Trial 31 finished with value: 0.4559630460947773 and parameters: {'max_depth': 3, 'n_estimators': 119, 'learning_rate': 0.06371296392227122, 'subsample': 0.6474721068033509, 'colsample_bytree': 0.9454789068288022}. Best is trial 22 with value: 0.4632772314911495.\n",
      "[I 2025-06-16 16:56:05,068] Trial 32 finished with value: 0.4603333258114479 and parameters: {'max_depth': 3, 'n_estimators': 137, 'learning_rate': 0.05494869600688591, 'subsample': 0.5900266135424947, 'colsample_bytree': 0.9227280070753746}. Best is trial 22 with value: 0.4632772314911495.\n",
      "[I 2025-06-16 16:56:05,731] Trial 33 finished with value: 0.4522305736123705 and parameters: {'max_depth': 4, 'n_estimators': 106, 'learning_rate': 0.05344604494011554, 'subsample': 0.7356505605188259, 'colsample_bytree': 0.9519836416352285}. Best is trial 22 with value: 0.4632772314911495.\n",
      "[I 2025-06-16 16:56:06,313] Trial 34 finished with value: 0.4528243827801127 and parameters: {'max_depth': 3, 'n_estimators': 132, 'learning_rate': 0.07998107956416925, 'subsample': 0.5879319479594042, 'colsample_bytree': 0.9799904288600705}. Best is trial 22 with value: 0.4632772314911495.\n",
      "[I 2025-06-16 16:56:07,024] Trial 35 finished with value: 0.45368418338492134 and parameters: {'max_depth': 4, 'n_estimators': 123, 'learning_rate': 0.06164931440904644, 'subsample': 0.6306143317336687, 'colsample_bytree': 0.8523046755375668}. Best is trial 22 with value: 0.4632772314911495.\n",
      "[I 2025-06-16 16:56:07,385] Trial 36 finished with value: 0.45903381723406433 and parameters: {'max_depth': 3, 'n_estimators': 64, 'learning_rate': 0.06838880620949236, 'subsample': 0.7915699271543872, 'colsample_bytree': 0.9340321312275796}. Best is trial 22 with value: 0.4632772314911495.\n",
      "[I 2025-06-16 16:56:09,612] Trial 37 finished with value: 0.4345571174053662 and parameters: {'max_depth': 7, 'n_estimators': 149, 'learning_rate': 0.05503706542197064, 'subsample': 0.6910531853031914, 'colsample_bytree': 0.9775723640593315}. Best is trial 22 with value: 0.4632772314911495.\n",
      "[I 2025-06-16 16:56:15,102] Trial 38 finished with value: 0.4247528916657203 and parameters: {'max_depth': 10, 'n_estimators': 100, 'learning_rate': 0.04882561529583327, 'subsample': 0.6696699617619725, 'colsample_bytree': 0.9581519715168704}. Best is trial 22 with value: 0.4632772314911495.\n",
      "[I 2025-06-16 16:56:15,779] Trial 39 finished with value: 0.44315348596590703 and parameters: {'max_depth': 4, 'n_estimators': 110, 'learning_rate': 0.017676912315471582, 'subsample': 0.717536961144485, 'colsample_bytree': 0.8249109454858813}. Best is trial 22 with value: 0.4632772314911495.\n",
      "[I 2025-06-16 16:56:19,382] Trial 40 finished with value: 0.4108676214862996 and parameters: {'max_depth': 9, 'n_estimators': 140, 'learning_rate': 0.05897420920753, 'subsample': 0.5852130107777715, 'colsample_bytree': 0.9254766098093408}. Best is trial 22 with value: 0.4632772314911495.\n",
      "[I 2025-06-16 16:56:20,105] Trial 41 finished with value: 0.4610942883168132 and parameters: {'max_depth': 3, 'n_estimators': 162, 'learning_rate': 0.033849559563635744, 'subsample': 0.5446016898759487, 'colsample_bytree': 0.9107941925742901}. Best is trial 22 with value: 0.4632772314911495.\n",
      "[I 2025-06-16 16:56:20,719] Trial 42 finished with value: 0.4660192075279774 and parameters: {'max_depth': 3, 'n_estimators': 133, 'learning_rate': 0.03135742420120893, 'subsample': 0.6141585825525462, 'colsample_bytree': 0.870946053027599}. Best is trial 42 with value: 0.4660192075279774.\n",
      "[I 2025-06-16 16:56:21,466] Trial 43 finished with value: 0.46304582719528276 and parameters: {'max_depth': 3, 'n_estimators': 175, 'learning_rate': 0.025711482316825702, 'subsample': 0.6250901758543836, 'colsample_bytree': 0.8711178915777174}. Best is trial 42 with value: 0.4660192075279774.\n",
      "[I 2025-06-16 16:56:22,196] Trial 44 finished with value: 0.466258220995622 and parameters: {'max_depth': 3, 'n_estimators': 176, 'learning_rate': 0.027049215364223476, 'subsample': 0.6203986299734814, 'colsample_bytree': 0.8486435968669341}. Best is trial 44 with value: 0.466258220995622.\n",
      "[I 2025-06-16 16:56:23,299] Trial 45 finished with value: 0.4380302451492419 and parameters: {'max_depth': 4, 'n_estimators': 176, 'learning_rate': 0.010220335026132704, 'subsample': 0.6217834642073594, 'colsample_bytree': 0.8094913359056345}. Best is trial 44 with value: 0.466258220995622.\n",
      "[I 2025-06-16 16:56:24,114] Trial 46 finished with value: 0.45767594040591836 and parameters: {'max_depth': 3, 'n_estimators': 197, 'learning_rate': 0.024746148382879227, 'subsample': 0.6356752705655193, 'colsample_bytree': 0.8392947651552258}. Best is trial 44 with value: 0.466258220995622.\n",
      "[I 2025-06-16 16:56:28,011] Trial 47 finished with value: 0.4322978052963123 and parameters: {'max_depth': 8, 'n_estimators': 183, 'learning_rate': 0.022752475733949163, 'subsample': 0.7883796861155179, 'colsample_bytree': 0.8649475955437061}. Best is trial 44 with value: 0.466258220995622.\n",
      "[I 2025-06-16 16:56:28,920] Trial 48 finished with value: 0.45259812335799465 and parameters: {'max_depth': 4, 'n_estimators': 169, 'learning_rate': 0.016161215257222104, 'subsample': 0.6588812327653258, 'colsample_bytree': 0.8055020703081371}. Best is trial 44 with value: 0.466258220995622.\n",
      "[I 2025-06-16 16:56:30,192] Trial 49 finished with value: 0.4572641656620644 and parameters: {'max_depth': 5, 'n_estimators': 177, 'learning_rate': 0.029612490830683694, 'subsample': 0.5247004094529272, 'colsample_bytree': 0.7557740880604047}. Best is trial 44 with value: 0.466258220995622.\n"
     ]
    }
   ],
   "source": [
    "def objective(trial):\n",
    "    params = {\n",
    "        'max_depth': trial.suggest_int('max_depth', 3, 10),\n",
    "        'n_estimators': trial.suggest_int('n_estimators', 50, 200),\n",
    "        'learning_rate': trial.suggest_float('learning_rate', 0.01, 0.1),\n",
    "        'subsample': trial.suggest_float('subsample', 0.5, 1.0),\n",
    "        'colsample_bytree': trial.suggest_float('colsample_bytree', 0.7, 1.0),\n",
    "        'random_state': SEED,\n",
    "    }\n",
    "    model = xgb.XGBRegressor(**params)\n",
    "    skf = StratifiedKFold(n_splits=5, shuffle=True, random_state=SEED)\n",
    "    scores = cross_val_score(model, X, y, cv=skf, scoring=kappa_scorer)\n",
    "    return np.mean(scores)\n",
    "\n",
    "study = optuna.create_study(direction='maximize')\n",
    "study.optimize(objective, n_trials=50)\n",
    "best_params = study.best_params"
   ]
  },
  {
   "cell_type": "code",
   "execution_count": 27,
   "id": "dd29a419",
   "metadata": {
    "execution": {
     "iopub.execute_input": "2025-06-16T16:56:30.239901Z",
     "iopub.status.busy": "2025-06-16T16:56:30.239504Z",
     "iopub.status.idle": "2025-06-16T16:56:30.245475Z",
     "shell.execute_reply": "2025-06-16T16:56:30.244355Z"
    },
    "papermill": {
     "duration": 0.027508,
     "end_time": "2025-06-16T16:56:30.247790",
     "exception": false,
     "start_time": "2025-06-16T16:56:30.220282",
     "status": "completed"
    },
    "tags": []
   },
   "outputs": [
    {
     "name": "stdout",
     "output_type": "stream",
     "text": [
      "Best parameters found:  {'max_depth': 3, 'n_estimators': 176, 'learning_rate': 0.027049215364223476, 'subsample': 0.6203986299734814, 'colsample_bytree': 0.8486435968669341}\n"
     ]
    }
   ],
   "source": [
    "print(\"Best parameters found: \", best_params)"
   ]
  },
  {
   "cell_type": "code",
   "execution_count": 28,
   "id": "9744278e",
   "metadata": {
    "execution": {
     "iopub.execute_input": "2025-06-16T16:56:30.285237Z",
     "iopub.status.busy": "2025-06-16T16:56:30.284859Z",
     "iopub.status.idle": "2025-06-16T16:56:30.290028Z",
     "shell.execute_reply": "2025-06-16T16:56:30.288900Z"
    },
    "papermill": {
     "duration": 0.026441,
     "end_time": "2025-06-16T16:56:30.292106",
     "exception": false,
     "start_time": "2025-06-16T16:56:30.265665",
     "status": "completed"
    },
    "tags": []
   },
   "outputs": [],
   "source": [
    "params = {'max_depth': 3, 'n_estimators': 87, 'learning_rate': 0.06306804675397865, 'subsample': 0.7886043382669142, 'colsample_bytree': 0.9957856093012589}\n",
    "skf = StratifiedKFold(n_splits=10)"
   ]
  },
  {
   "cell_type": "code",
   "execution_count": 29,
   "id": "3b6eb3c8",
   "metadata": {
    "execution": {
     "iopub.execute_input": "2025-06-16T16:56:30.329768Z",
     "iopub.status.busy": "2025-06-16T16:56:30.329374Z",
     "iopub.status.idle": "2025-06-16T16:56:30.334134Z",
     "shell.execute_reply": "2025-06-16T16:56:30.333064Z"
    },
    "papermill": {
     "duration": 0.026787,
     "end_time": "2025-06-16T16:56:30.336573",
     "exception": false,
     "start_time": "2025-06-16T16:56:30.309786",
     "status": "completed"
    },
    "tags": []
   },
   "outputs": [],
   "source": [
    "model = xgb.XGBRegressor(**params)"
   ]
  },
  {
   "cell_type": "code",
   "execution_count": 30,
   "id": "d21dbaf7",
   "metadata": {
    "execution": {
     "iopub.execute_input": "2025-06-16T16:56:30.373700Z",
     "iopub.status.busy": "2025-06-16T16:56:30.373280Z",
     "iopub.status.idle": "2025-06-16T16:56:31.203687Z",
     "shell.execute_reply": "2025-06-16T16:56:31.202753Z"
    },
    "papermill": {
     "duration": 0.852242,
     "end_time": "2025-06-16T16:56:31.206390",
     "exception": false,
     "start_time": "2025-06-16T16:56:30.354148",
     "status": "completed"
    },
    "tags": []
   },
   "outputs": [
    {
     "name": "stdout",
     "output_type": "stream",
     "text": [
      "QWK Scores: [0.41957086 0.48621507 0.58728068 0.46522578 0.47525858 0.45989066\n",
      " 0.51923179 0.45147766 0.44851861 0.44643168]\n",
      "Mean QWK Score: 0.4759101368416661\n"
     ]
    }
   ],
   "source": [
    "scores = cross_val_score(model, X, y, cv=skf, scoring=kappa_scorer)\n",
    "print(\"QWK Scores:\", scores)\n",
    "print(\"Mean QWK Score:\", np.mean(scores))"
   ]
  },
  {
   "cell_type": "code",
   "execution_count": 31,
   "id": "5d8dc4c3",
   "metadata": {
    "execution": {
     "iopub.execute_input": "2025-06-16T16:56:31.245610Z",
     "iopub.status.busy": "2025-06-16T16:56:31.245228Z",
     "iopub.status.idle": "2025-06-16T16:56:31.330848Z",
     "shell.execute_reply": "2025-06-16T16:56:31.329574Z"
    },
    "papermill": {
     "duration": 0.107875,
     "end_time": "2025-06-16T16:56:31.333662",
     "exception": false,
     "start_time": "2025-06-16T16:56:31.225787",
     "status": "completed"
    },
    "tags": []
   },
   "outputs": [
    {
     "data": {
      "text/plain": [
       "Basic_Demos-Age                           0.344452\n",
       "PreInt_EduHx-computerinternet_hoursday    0.125975\n",
       "SDS-SDS_Total_T                           0.072281\n",
       "Physical-Height                           0.053967\n",
       "Physical-Weight                           0.051058\n",
       "FGC-FGC_CU                                0.049353\n",
       "FGC-FGC_PU                                0.043878\n",
       "PAQ_C-Season                              0.033835\n",
       "BIA-BIA_Frame_num                         0.030965\n",
       "PAQ_A-Season                              0.029934\n",
       "FGC-FGC_SRL_Zone                          0.029845\n",
       "FGC-FGC_TL                                0.029428\n",
       "Physical-Systolic_BP                      0.029330\n",
       "FGC-FGC_SRR_Zone                          0.027100\n",
       "BIA-BIA_FFMI                              0.025053\n",
       "BIA-BIA_BMI                               0.023546\n",
       "dtype: float32"
      ]
     },
     "execution_count": 31,
     "metadata": {},
     "output_type": "execute_result"
    }
   ],
   "source": [
    "model.fit(X,y)\n",
    "feature_imp = pd.Series(model.feature_importances_,index=X.columns).sort_values(ascending=False)\n",
    "feature_imp"
   ]
  },
  {
   "cell_type": "code",
   "execution_count": 32,
   "id": "02bfd0d9",
   "metadata": {
    "execution": {
     "iopub.execute_input": "2025-06-16T16:56:31.372521Z",
     "iopub.status.busy": "2025-06-16T16:56:31.372161Z",
     "iopub.status.idle": "2025-06-16T16:56:31.816095Z",
     "shell.execute_reply": "2025-06-16T16:56:31.814916Z"
    },
    "papermill": {
     "duration": 0.46581,
     "end_time": "2025-06-16T16:56:31.818339",
     "exception": false,
     "start_time": "2025-06-16T16:56:31.352529",
     "status": "completed"
    },
    "tags": []
   },
   "outputs": [
    {
     "data": {
      "image/png": "[encoded data removed]",
      "text/plain": [
       "<Figure size 640x480 with 1 Axes>"
      ]
     },
     "metadata": {},
     "output_type": "display_data"
    }
   ],
   "source": [
    "sns.barplot(x=feature_imp, y=feature_imp.index)\n",
    "plt.xlabel('Feature Importance Score')\n",
    "plt.title(\"Feature Importances\")\n",
    "plt.show()"
   ]
  },
  {
   "cell_type": "code",
   "execution_count": 33,
   "id": "f9c02ff3",
   "metadata": {
    "execution": {
     "iopub.execute_input": "2025-06-16T16:56:31.859745Z",
     "iopub.status.busy": "2025-06-16T16:56:31.859375Z",
     "iopub.status.idle": "2025-06-16T16:56:32.369368Z",
     "shell.execute_reply": "2025-06-16T16:56:32.368243Z"
    },
    "papermill": {
     "duration": 0.533414,
     "end_time": "2025-06-16T16:56:32.371617",
     "exception": false,
     "start_time": "2025-06-16T16:56:31.838203",
     "status": "completed"
    },
    "tags": []
   },
   "outputs": [
    {
     "data": {
      "text/html": [
       "\n",
       "    <style>\n",
       "    table.eli5-weights tr:hover {\n",
       "        filter: brightness(85%);\n",
       "    }\n",
       "</style>\n",
       "\n",
       "\n",
       "\n",
       "    \n",
       "\n",
       "    \n",
       "\n",
       "    \n",
       "\n",
       "    \n",
       "\n",
       "    \n",
       "\n",
       "    \n",
       "\n",
       "\n",
       "    \n",
       "\n",
       "    \n",
       "\n",
       "    \n",
       "\n",
       "    \n",
       "\n",
       "    \n",
       "\n",
       "    \n",
       "\n",
       "\n",
       "    \n",
       "\n",
       "    \n",
       "\n",
       "    \n",
       "\n",
       "    \n",
       "\n",
       "    \n",
       "        <table class=\"eli5-weights eli5-feature-importances\" style=\"border-collapse: collapse; border: none; margin-top: 0em; table-layout: auto;\">\n",
       "    <thead>\n",
       "    <tr style=\"border: none;\">\n",
       "        <th style=\"padding: 0 1em 0 0.5em; text-align: right; border: none;\">Weight</th>\n",
       "        <th style=\"padding: 0 0.5em 0 0.5em; text-align: left; border: none;\">Feature</th>\n",
       "    </tr>\n",
       "    </thead>\n",
       "    <tbody>\n",
       "    \n",
       "        <tr style=\"background-color: hsl(120, 100.00%, 80.00%); border: none;\">\n",
       "            <td style=\"padding: 0 1em 0 0.5em; text-align: right; border: none;\">\n",
       "                0.1207\n",
       "                \n",
       "                    &plusmn; 0.0119\n",
       "                \n",
       "            </td>\n",
       "            <td style=\"padding: 0 0.5em 0 0.5em; text-align: left; border: none;\">\n",
       "                PreInt_EduHx-computerinternet_hoursday\n",
       "            </td>\n",
       "        </tr>\n",
       "    \n",
       "        <tr style=\"background-color: hsl(120, 100.00%, 80.46%); border: none;\">\n",
       "            <td style=\"padding: 0 1em 0 0.5em; text-align: right; border: none;\">\n",
       "                0.1167\n",
       "                \n",
       "                    &plusmn; 0.0117\n",
       "                \n",
       "            </td>\n",
       "            <td style=\"padding: 0 0.5em 0 0.5em; text-align: left; border: none;\">\n",
       "                SDS-SDS_Total_T\n",
       "            </td>\n",
       "        </tr>\n",
       "    \n",
       "        <tr style=\"background-color: hsl(120, 100.00%, 82.24%); border: none;\">\n",
       "            <td style=\"padding: 0 1em 0 0.5em; text-align: right; border: none;\">\n",
       "                0.1018\n",
       "                \n",
       "                    &plusmn; 0.0084\n",
       "                \n",
       "            </td>\n",
       "            <td style=\"padding: 0 0.5em 0 0.5em; text-align: left; border: none;\">\n",
       "                Basic_Demos-Age\n",
       "            </td>\n",
       "        </tr>\n",
       "    \n",
       "        <tr style=\"background-color: hsl(120, 100.00%, 93.06%); border: none;\">\n",
       "            <td style=\"padding: 0 1em 0 0.5em; text-align: right; border: none;\">\n",
       "                0.0266\n",
       "                \n",
       "                    &plusmn; 0.0034\n",
       "                \n",
       "            </td>\n",
       "            <td style=\"padding: 0 0.5em 0 0.5em; text-align: left; border: none;\">\n",
       "                Physical-Height\n",
       "            </td>\n",
       "        </tr>\n",
       "    \n",
       "        <tr style=\"background-color: hsl(120, 100.00%, 93.19%); border: none;\">\n",
       "            <td style=\"padding: 0 1em 0 0.5em; text-align: right; border: none;\">\n",
       "                0.0259\n",
       "                \n",
       "                    &plusmn; 0.0028\n",
       "                \n",
       "            </td>\n",
       "            <td style=\"padding: 0 0.5em 0 0.5em; text-align: left; border: none;\">\n",
       "                Physical-Weight\n",
       "            </td>\n",
       "        </tr>\n",
       "    \n",
       "        <tr style=\"background-color: hsl(120, 100.00%, 93.20%); border: none;\">\n",
       "            <td style=\"padding: 0 1em 0 0.5em; text-align: right; border: none;\">\n",
       "                0.0258\n",
       "                \n",
       "                    &plusmn; 0.0040\n",
       "                \n",
       "            </td>\n",
       "            <td style=\"padding: 0 0.5em 0 0.5em; text-align: left; border: none;\">\n",
       "                FGC-FGC_CU\n",
       "            </td>\n",
       "        </tr>\n",
       "    \n",
       "        <tr style=\"background-color: hsl(120, 100.00%, 94.89%); border: none;\">\n",
       "            <td style=\"padding: 0 1em 0 0.5em; text-align: right; border: none;\">\n",
       "                0.0172\n",
       "                \n",
       "                    &plusmn; 0.0031\n",
       "                \n",
       "            </td>\n",
       "            <td style=\"padding: 0 0.5em 0 0.5em; text-align: left; border: none;\">\n",
       "                FGC-FGC_PU\n",
       "            </td>\n",
       "        </tr>\n",
       "    \n",
       "        <tr style=\"background-color: hsl(120, 100.00%, 95.66%); border: none;\">\n",
       "            <td style=\"padding: 0 1em 0 0.5em; text-align: right; border: none;\">\n",
       "                0.0136\n",
       "                \n",
       "                    &plusmn; 0.0021\n",
       "                \n",
       "            </td>\n",
       "            <td style=\"padding: 0 0.5em 0 0.5em; text-align: left; border: none;\">\n",
       "                BIA-BIA_FFMI\n",
       "            </td>\n",
       "        </tr>\n",
       "    \n",
       "        <tr style=\"background-color: hsl(120, 100.00%, 96.07%); border: none;\">\n",
       "            <td style=\"padding: 0 1em 0 0.5em; text-align: right; border: none;\">\n",
       "                0.0118\n",
       "                \n",
       "                    &plusmn; 0.0013\n",
       "                \n",
       "            </td>\n",
       "            <td style=\"padding: 0 0.5em 0 0.5em; text-align: left; border: none;\">\n",
       "                Physical-Systolic_BP\n",
       "            </td>\n",
       "        </tr>\n",
       "    \n",
       "        <tr style=\"background-color: hsl(120, 100.00%, 96.61%); border: none;\">\n",
       "            <td style=\"padding: 0 1em 0 0.5em; text-align: right; border: none;\">\n",
       "                0.0095\n",
       "                \n",
       "                    &plusmn; 0.0021\n",
       "                \n",
       "            </td>\n",
       "            <td style=\"padding: 0 0.5em 0 0.5em; text-align: left; border: none;\">\n",
       "                FGC-FGC_SRL_Zone\n",
       "            </td>\n",
       "        </tr>\n",
       "    \n",
       "        <tr style=\"background-color: hsl(120, 100.00%, 96.98%); border: none;\">\n",
       "            <td style=\"padding: 0 1em 0 0.5em; text-align: right; border: none;\">\n",
       "                0.0081\n",
       "                \n",
       "                    &plusmn; 0.0006\n",
       "                \n",
       "            </td>\n",
       "            <td style=\"padding: 0 0.5em 0 0.5em; text-align: left; border: none;\">\n",
       "                BIA-BIA_BMI\n",
       "            </td>\n",
       "        </tr>\n",
       "    \n",
       "        <tr style=\"background-color: hsl(120, 100.00%, 97.02%); border: none;\">\n",
       "            <td style=\"padding: 0 1em 0 0.5em; text-align: right; border: none;\">\n",
       "                0.0080\n",
       "                \n",
       "                    &plusmn; 0.0021\n",
       "                \n",
       "            </td>\n",
       "            <td style=\"padding: 0 0.5em 0 0.5em; text-align: left; border: none;\">\n",
       "                PAQ_C-Season\n",
       "            </td>\n",
       "        </tr>\n",
       "    \n",
       "        <tr style=\"background-color: hsl(120, 100.00%, 97.87%); border: none;\">\n",
       "            <td style=\"padding: 0 1em 0 0.5em; text-align: right; border: none;\">\n",
       "                0.0049\n",
       "                \n",
       "                    &plusmn; 0.0012\n",
       "                \n",
       "            </td>\n",
       "            <td style=\"padding: 0 0.5em 0 0.5em; text-align: left; border: none;\">\n",
       "                FGC-FGC_TL\n",
       "            </td>\n",
       "        </tr>\n",
       "    \n",
       "        <tr style=\"background-color: hsl(120, 100.00%, 98.75%); border: none;\">\n",
       "            <td style=\"padding: 0 1em 0 0.5em; text-align: right; border: none;\">\n",
       "                0.0023\n",
       "                \n",
       "                    &plusmn; 0.0008\n",
       "                \n",
       "            </td>\n",
       "            <td style=\"padding: 0 0.5em 0 0.5em; text-align: left; border: none;\">\n",
       "                PAQ_A-Season\n",
       "            </td>\n",
       "        </tr>\n",
       "    \n",
       "        <tr style=\"background-color: hsl(120, 100.00%, 99.27%); border: none;\">\n",
       "            <td style=\"padding: 0 1em 0 0.5em; text-align: right; border: none;\">\n",
       "                0.0011\n",
       "                \n",
       "                    &plusmn; 0.0003\n",
       "                \n",
       "            </td>\n",
       "            <td style=\"padding: 0 0.5em 0 0.5em; text-align: left; border: none;\">\n",
       "                BIA-BIA_Frame_num\n",
       "            </td>\n",
       "        </tr>\n",
       "    \n",
       "        <tr style=\"background-color: hsl(120, 100.00%, 99.78%); border: none;\">\n",
       "            <td style=\"padding: 0 1em 0 0.5em; text-align: right; border: none;\">\n",
       "                0.0002\n",
       "                \n",
       "                    &plusmn; 0.0003\n",
       "                \n",
       "            </td>\n",
       "            <td style=\"padding: 0 0.5em 0 0.5em; text-align: left; border: none;\">\n",
       "                FGC-FGC_SRR_Zone\n",
       "            </td>\n",
       "        </tr>\n",
       "    \n",
       "    \n",
       "    </tbody>\n",
       "</table>\n",
       "    \n",
       "\n",
       "    \n",
       "\n",
       "\n",
       "    \n",
       "\n",
       "    \n",
       "\n",
       "    \n",
       "\n",
       "    \n",
       "\n",
       "    \n",
       "\n",
       "    \n",
       "\n",
       "\n",
       "\n"
      ],
      "text/plain": [
       "<IPython.core.display.HTML object>"
      ]
     },
     "execution_count": 33,
     "metadata": {},
     "output_type": "execute_result"
    }
   ],
   "source": [
    "perm = PermutationImportance(model, random_state=1).fit(X,y)\n",
    "eli5.show_weights(perm, feature_names = X.columns.tolist())"
   ]
  },
  {
   "cell_type": "markdown",
   "id": "c3cb2a29",
   "metadata": {
    "papermill": {
     "duration": 0.018889,
     "end_time": "2025-06-16T16:56:32.409716",
     "exception": false,
     "start_time": "2025-06-16T16:56:32.390827",
     "status": "completed"
    },
    "tags": []
   },
   "source": [
    "**10. Submission**# "
   ]
  },
  {
   "cell_type": "code",
   "execution_count": 34,
   "id": "0d514b88",
   "metadata": {
    "execution": {
     "iopub.execute_input": "2025-06-16T16:56:32.453722Z",
     "iopub.status.busy": "2025-06-16T16:56:32.452665Z",
     "iopub.status.idle": "2025-06-16T16:56:32.552429Z",
     "shell.execute_reply": "2025-06-16T16:56:32.550546Z"
    },
    "papermill": {
     "duration": 0.123635,
     "end_time": "2025-06-16T16:56:32.554879",
     "exception": false,
     "start_time": "2025-06-16T16:56:32.431244",
     "status": "completed"
    },
    "tags": []
   },
   "outputs": [
    {
     "data": {
      "text/html": [
       "<div>\n",
       "<style scoped>\n",
       "    .dataframe tbody tr th:only-of-type {\n",
       "        vertical-align: middle;\n",
       "    }\n",
       "\n",
       "    .dataframe tbody tr th {\n",
       "        vertical-align: top;\n",
       "    }\n",
       "\n",
       "    .dataframe thead th {\n",
       "        text-align: right;\n",
       "    }\n",
       "</style>\n",
       "<table border=\"1\" class=\"dataframe\">\n",
       "  <thead>\n",
       "    <tr style=\"text-align: right;\">\n",
       "      <th></th>\n",
       "      <th>id</th>\n",
       "      <th>sii</th>\n",
       "    </tr>\n",
       "  </thead>\n",
       "  <tbody>\n",
       "    <tr>\n",
       "      <th>0</th>\n",
       "      <td>00008ff9</td>\n",
       "      <td>1.0</td>\n",
       "    </tr>\n",
       "    <tr>\n",
       "      <th>1</th>\n",
       "      <td>000fd460</td>\n",
       "      <td>0.0</td>\n",
       "    </tr>\n",
       "    <tr>\n",
       "      <th>2</th>\n",
       "      <td>00105258</td>\n",
       "      <td>1.0</td>\n",
       "    </tr>\n",
       "    <tr>\n",
       "      <th>3</th>\n",
       "      <td>00115b9f</td>\n",
       "      <td>1.0</td>\n",
       "    </tr>\n",
       "    <tr>\n",
       "      <th>4</th>\n",
       "      <td>0016bb22</td>\n",
       "      <td>1.0</td>\n",
       "    </tr>\n",
       "    <tr>\n",
       "      <th>5</th>\n",
       "      <td>001f3379</td>\n",
       "      <td>1.0</td>\n",
       "    </tr>\n",
       "    <tr>\n",
       "      <th>6</th>\n",
       "      <td>0038ba98</td>\n",
       "      <td>1.0</td>\n",
       "    </tr>\n",
       "    <tr>\n",
       "      <th>7</th>\n",
       "      <td>0068a485</td>\n",
       "      <td>1.0</td>\n",
       "    </tr>\n",
       "    <tr>\n",
       "      <th>8</th>\n",
       "      <td>0069fbed</td>\n",
       "      <td>2.0</td>\n",
       "    </tr>\n",
       "    <tr>\n",
       "      <th>9</th>\n",
       "      <td>0083e397</td>\n",
       "      <td>1.0</td>\n",
       "    </tr>\n",
       "    <tr>\n",
       "      <th>10</th>\n",
       "      <td>0087dd65</td>\n",
       "      <td>1.0</td>\n",
       "    </tr>\n",
       "    <tr>\n",
       "      <th>11</th>\n",
       "      <td>00abe655</td>\n",
       "      <td>1.0</td>\n",
       "    </tr>\n",
       "    <tr>\n",
       "      <th>12</th>\n",
       "      <td>00ae59c9</td>\n",
       "      <td>2.0</td>\n",
       "    </tr>\n",
       "    <tr>\n",
       "      <th>13</th>\n",
       "      <td>00af6387</td>\n",
       "      <td>1.0</td>\n",
       "    </tr>\n",
       "    <tr>\n",
       "      <th>14</th>\n",
       "      <td>00bd4359</td>\n",
       "      <td>2.0</td>\n",
       "    </tr>\n",
       "    <tr>\n",
       "      <th>15</th>\n",
       "      <td>00c0cd71</td>\n",
       "      <td>1.0</td>\n",
       "    </tr>\n",
       "    <tr>\n",
       "      <th>16</th>\n",
       "      <td>00d56d4b</td>\n",
       "      <td>0.0</td>\n",
       "    </tr>\n",
       "    <tr>\n",
       "      <th>17</th>\n",
       "      <td>00d9913d</td>\n",
       "      <td>1.0</td>\n",
       "    </tr>\n",
       "    <tr>\n",
       "      <th>18</th>\n",
       "      <td>00e6167c</td>\n",
       "      <td>1.0</td>\n",
       "    </tr>\n",
       "    <tr>\n",
       "      <th>19</th>\n",
       "      <td>00ebc35d</td>\n",
       "      <td>1.0</td>\n",
       "    </tr>\n",
       "  </tbody>\n",
       "</table>\n",
       "</div>"
      ],
      "text/plain": [
       "          id  sii\n",
       "0   00008ff9  1.0\n",
       "1   000fd460  0.0\n",
       "2   00105258  1.0\n",
       "3   00115b9f  1.0\n",
       "4   0016bb22  1.0\n",
       "5   001f3379  1.0\n",
       "6   0038ba98  1.0\n",
       "7   0068a485  1.0\n",
       "8   0069fbed  2.0\n",
       "9   0083e397  1.0\n",
       "10  0087dd65  1.0\n",
       "11  00abe655  1.0\n",
       "12  00ae59c9  2.0\n",
       "13  00af6387  1.0\n",
       "14  00bd4359  2.0\n",
       "15  00c0cd71  1.0\n",
       "16  00d56d4b  0.0\n",
       "17  00d9913d  1.0\n",
       "18  00e6167c  1.0\n",
       "19  00ebc35d  1.0"
      ]
     },
     "execution_count": 34,
     "metadata": {},
     "output_type": "execute_result"
    }
   ],
   "source": [
    "model.fit(X,y)\n",
    "preds = model.predict(test)\n",
    "preds = convert(preds) # convert raw scores to sii categories if using regressor\n",
    "preds = pd.Series(preds)\n",
    "submission = pd.DataFrame({\n",
    "    \n",
    "    'id': test.index,  # Giả sử test.index chứa các ID\n",
    "    'sii': preds\n",
    "})\n",
    "submission.to_csv('submission.csv', index=False)\n",
    "submission"
   ]
  }
 ],
 "metadata": {
  "kaggle": {
   "accelerator": "none",
   "dataSources": [
    {
     "databundleVersionId": 9643020,
     "sourceId": 81933,
     "sourceType": "competition"
    }
   ],
   "dockerImageVersionId": 30804,
   "isGpuEnabled": false,
   "isInternetEnabled": false,
   "language": "python",
   "sourceType": "notebook"
  },
  "kernelspec": {
   "display_name": "Python 3",
   "language": "python",
   "name": "python3"
  },
  "language_info": {
   "codemirror_mode": {
    "name": "ipython",
    "version": 3
   },
   "file_extension": ".py",
   "mimetype": "text/x-python",
   "name": "python",
   "nbconvert_exporter": "python",
   "pygments_lexer": "ipython3",
   "version": "3.10.14"
  },
  "papermill": {
   "default_parameters": {},
   "duration": 108.030272,
   "end_time": "2025-06-16T16:56:35.075742",
   "environment_variables": {},
   "exception": null,
   "input_path": "__notebook__.ipynb",
   "output_path": "__notebook__.ipynb",
   "parameters": {},
   "start_time": "2025-06-16T16:54:47.045470",
   "version": "2.6.0"
  }
 },
 "nbformat": 4,
 "nbformat_minor": 5
}
